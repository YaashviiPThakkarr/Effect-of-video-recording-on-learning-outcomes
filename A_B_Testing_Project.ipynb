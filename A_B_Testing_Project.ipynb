{
  "nbformat": 4,
  "nbformat_minor": 0,
  "metadata": {
    "colab": {
      "provenance": []
    },
    "kernelspec": {
      "name": "python3",
      "display_name": "Python 3"
    },
    "language_info": {
      "name": "python"
    }
  },
  "cells": [
    {
      "cell_type": "code",
      "execution_count": 3,
      "metadata": {
        "colab": {
          "base_uri": "https://localhost:8080/"
        },
        "id": "ru0XUBNPIMjj",
        "outputId": "d6dc2228-ae32-40e7-d957-1424fab9289f"
      },
      "outputs": [
        {
          "output_type": "stream",
          "name": "stdout",
          "text": [
            "Mounted at /content/gdrive\n"
          ]
        }
      ],
      "source": [
        "from google.colab import drive\n",
        "drive.mount('/content/gdrive')"
      ]
    },
    {
      "cell_type": "code",
      "source": [
        "import pandas as pd\n",
        "import numpy as np\n",
        "from Mapping import *\n",
        "from statsmodels.formula.api import ols\n",
        "import seaborn as sns"
      ],
      "metadata": {
        "id": "adTsCkYaGYsH"
      },
      "execution_count": null,
      "outputs": []
    },
    {
      "cell_type": "code",
      "source": [
        "data = pd.read_csv(\"/content/gdrive/MyDrive/ParticipantData12Dec2022.csv\")"
      ],
      "metadata": {
        "id": "ZZMH7_geIWA7"
      },
      "execution_count": null,
      "outputs": []
    },
    {
      "cell_type": "code",
      "source": [
        "data.head()"
      ],
      "metadata": {
        "id": "EptW6hekGaSn",
        "outputId": "36e3631b-cc21-44d3-dda5-590ce24312ef",
        "colab": {
          "base_uri": "https://localhost:8080/",
          "height": 300
        }
      },
      "execution_count": null,
      "outputs": [
        {
          "output_type": "execute_result",
          "data": {
            "text/plain": [
              "   participant_id  video_id  recording_elegible  cam_allowed  azure_features  \\\n",
              "0         5391298     13201                   0          0.0             0.0   \n",
              "1         5202198     13201                   0          0.0             0.0   \n",
              "2          415738     13201                   0          0.0             0.0   \n",
              "3         8137098     13201                   0          0.0             0.0   \n",
              "4         3651718     13201                   0          0.0             0.0   \n",
              "\n",
              "   video_error  duration_recording  survey_duration pre_quiz1 pre_quiz2  ...  \\\n",
              "0            0                 NaN              767         a         d  ...   \n",
              "1            0                 NaN              536         a         c  ...   \n",
              "2            0                 NaN              665         a         c  ...   \n",
              "3            0                 NaN             1137         d         c  ...   \n",
              "4            0                 NaN              318         a         c  ...   \n",
              "\n",
              "  correct_post_quiz self_raw_anger self_raw_contempt self_raw_disgust  \\\n",
              "0                 4            0.0               0.0              0.0   \n",
              "1                 8            0.0               0.0              0.0   \n",
              "2                 4            0.0               0.0              0.0   \n",
              "3                 4            0.0               0.0              0.0   \n",
              "4                 6            0.0               0.0              0.0   \n",
              "\n",
              "  self_raw_fear self_raw_happiness self_raw_neutral self_raw_sadness  \\\n",
              "0           0.0                0.0              1.0              0.0   \n",
              "1           0.0                0.0              1.0              0.0   \n",
              "2           0.0                0.0              1.0              0.0   \n",
              "3           1.0                0.0              0.0              0.0   \n",
              "4           0.0                0.0              1.0              0.0   \n",
              "\n",
              "   self_raw_surprise  reported_emotions  \n",
              "0                0.0                1.0  \n",
              "1                0.0                1.0  \n",
              "2                0.0                1.0  \n",
              "3                0.0                1.0  \n",
              "4                0.0                1.0  \n",
              "\n",
              "[5 rows x 45 columns]"
            ],
            "text/html": [
              "\n",
              "  <div id=\"df-17713ee3-2eda-4240-a454-5d9626eca46d\">\n",
              "    <div class=\"colab-df-container\">\n",
              "      <div>\n",
              "<style scoped>\n",
              "    .dataframe tbody tr th:only-of-type {\n",
              "        vertical-align: middle;\n",
              "    }\n",
              "\n",
              "    .dataframe tbody tr th {\n",
              "        vertical-align: top;\n",
              "    }\n",
              "\n",
              "    .dataframe thead th {\n",
              "        text-align: right;\n",
              "    }\n",
              "</style>\n",
              "<table border=\"1\" class=\"dataframe\">\n",
              "  <thead>\n",
              "    <tr style=\"text-align: right;\">\n",
              "      <th></th>\n",
              "      <th>participant_id</th>\n",
              "      <th>video_id</th>\n",
              "      <th>recording_elegible</th>\n",
              "      <th>cam_allowed</th>\n",
              "      <th>azure_features</th>\n",
              "      <th>video_error</th>\n",
              "      <th>duration_recording</th>\n",
              "      <th>survey_duration</th>\n",
              "      <th>pre_quiz1</th>\n",
              "      <th>pre_quiz2</th>\n",
              "      <th>...</th>\n",
              "      <th>correct_post_quiz</th>\n",
              "      <th>self_raw_anger</th>\n",
              "      <th>self_raw_contempt</th>\n",
              "      <th>self_raw_disgust</th>\n",
              "      <th>self_raw_fear</th>\n",
              "      <th>self_raw_happiness</th>\n",
              "      <th>self_raw_neutral</th>\n",
              "      <th>self_raw_sadness</th>\n",
              "      <th>self_raw_surprise</th>\n",
              "      <th>reported_emotions</th>\n",
              "    </tr>\n",
              "  </thead>\n",
              "  <tbody>\n",
              "    <tr>\n",
              "      <th>0</th>\n",
              "      <td>5391298</td>\n",
              "      <td>13201</td>\n",
              "      <td>0</td>\n",
              "      <td>0.0</td>\n",
              "      <td>0.0</td>\n",
              "      <td>0</td>\n",
              "      <td>NaN</td>\n",
              "      <td>767</td>\n",
              "      <td>a</td>\n",
              "      <td>d</td>\n",
              "      <td>...</td>\n",
              "      <td>4</td>\n",
              "      <td>0.0</td>\n",
              "      <td>0.0</td>\n",
              "      <td>0.0</td>\n",
              "      <td>0.0</td>\n",
              "      <td>0.0</td>\n",
              "      <td>1.0</td>\n",
              "      <td>0.0</td>\n",
              "      <td>0.0</td>\n",
              "      <td>1.0</td>\n",
              "    </tr>\n",
              "    <tr>\n",
              "      <th>1</th>\n",
              "      <td>5202198</td>\n",
              "      <td>13201</td>\n",
              "      <td>0</td>\n",
              "      <td>0.0</td>\n",
              "      <td>0.0</td>\n",
              "      <td>0</td>\n",
              "      <td>NaN</td>\n",
              "      <td>536</td>\n",
              "      <td>a</td>\n",
              "      <td>c</td>\n",
              "      <td>...</td>\n",
              "      <td>8</td>\n",
              "      <td>0.0</td>\n",
              "      <td>0.0</td>\n",
              "      <td>0.0</td>\n",
              "      <td>0.0</td>\n",
              "      <td>0.0</td>\n",
              "      <td>1.0</td>\n",
              "      <td>0.0</td>\n",
              "      <td>0.0</td>\n",
              "      <td>1.0</td>\n",
              "    </tr>\n",
              "    <tr>\n",
              "      <th>2</th>\n",
              "      <td>415738</td>\n",
              "      <td>13201</td>\n",
              "      <td>0</td>\n",
              "      <td>0.0</td>\n",
              "      <td>0.0</td>\n",
              "      <td>0</td>\n",
              "      <td>NaN</td>\n",
              "      <td>665</td>\n",
              "      <td>a</td>\n",
              "      <td>c</td>\n",
              "      <td>...</td>\n",
              "      <td>4</td>\n",
              "      <td>0.0</td>\n",
              "      <td>0.0</td>\n",
              "      <td>0.0</td>\n",
              "      <td>0.0</td>\n",
              "      <td>0.0</td>\n",
              "      <td>1.0</td>\n",
              "      <td>0.0</td>\n",
              "      <td>0.0</td>\n",
              "      <td>1.0</td>\n",
              "    </tr>\n",
              "    <tr>\n",
              "      <th>3</th>\n",
              "      <td>8137098</td>\n",
              "      <td>13201</td>\n",
              "      <td>0</td>\n",
              "      <td>0.0</td>\n",
              "      <td>0.0</td>\n",
              "      <td>0</td>\n",
              "      <td>NaN</td>\n",
              "      <td>1137</td>\n",
              "      <td>d</td>\n",
              "      <td>c</td>\n",
              "      <td>...</td>\n",
              "      <td>4</td>\n",
              "      <td>0.0</td>\n",
              "      <td>0.0</td>\n",
              "      <td>0.0</td>\n",
              "      <td>1.0</td>\n",
              "      <td>0.0</td>\n",
              "      <td>0.0</td>\n",
              "      <td>0.0</td>\n",
              "      <td>0.0</td>\n",
              "      <td>1.0</td>\n",
              "    </tr>\n",
              "    <tr>\n",
              "      <th>4</th>\n",
              "      <td>3651718</td>\n",
              "      <td>13201</td>\n",
              "      <td>0</td>\n",
              "      <td>0.0</td>\n",
              "      <td>0.0</td>\n",
              "      <td>0</td>\n",
              "      <td>NaN</td>\n",
              "      <td>318</td>\n",
              "      <td>a</td>\n",
              "      <td>c</td>\n",
              "      <td>...</td>\n",
              "      <td>6</td>\n",
              "      <td>0.0</td>\n",
              "      <td>0.0</td>\n",
              "      <td>0.0</td>\n",
              "      <td>0.0</td>\n",
              "      <td>0.0</td>\n",
              "      <td>1.0</td>\n",
              "      <td>0.0</td>\n",
              "      <td>0.0</td>\n",
              "      <td>1.0</td>\n",
              "    </tr>\n",
              "  </tbody>\n",
              "</table>\n",
              "<p>5 rows × 45 columns</p>\n",
              "</div>\n",
              "      <button class=\"colab-df-convert\" onclick=\"convertToInteractive('df-17713ee3-2eda-4240-a454-5d9626eca46d')\"\n",
              "              title=\"Convert this dataframe to an interactive table.\"\n",
              "              style=\"display:none;\">\n",
              "        \n",
              "  <svg xmlns=\"http://www.w3.org/2000/svg\" height=\"24px\"viewBox=\"0 0 24 24\"\n",
              "       width=\"24px\">\n",
              "    <path d=\"M0 0h24v24H0V0z\" fill=\"none\"/>\n",
              "    <path d=\"M18.56 5.44l.94 2.06.94-2.06 2.06-.94-2.06-.94-.94-2.06-.94 2.06-2.06.94zm-11 1L8.5 8.5l.94-2.06 2.06-.94-2.06-.94L8.5 2.5l-.94 2.06-2.06.94zm10 10l.94 2.06.94-2.06 2.06-.94-2.06-.94-.94-2.06-.94 2.06-2.06.94z\"/><path d=\"M17.41 7.96l-1.37-1.37c-.4-.4-.92-.59-1.43-.59-.52 0-1.04.2-1.43.59L10.3 9.45l-7.72 7.72c-.78.78-.78 2.05 0 2.83L4 21.41c.39.39.9.59 1.41.59.51 0 1.02-.2 1.41-.59l7.78-7.78 2.81-2.81c.8-.78.8-2.07 0-2.86zM5.41 20L4 18.59l7.72-7.72 1.47 1.35L5.41 20z\"/>\n",
              "  </svg>\n",
              "      </button>\n",
              "      \n",
              "  <style>\n",
              "    .colab-df-container {\n",
              "      display:flex;\n",
              "      flex-wrap:wrap;\n",
              "      gap: 12px;\n",
              "    }\n",
              "\n",
              "    .colab-df-convert {\n",
              "      background-color: #E8F0FE;\n",
              "      border: none;\n",
              "      border-radius: 50%;\n",
              "      cursor: pointer;\n",
              "      display: none;\n",
              "      fill: #1967D2;\n",
              "      height: 32px;\n",
              "      padding: 0 0 0 0;\n",
              "      width: 32px;\n",
              "    }\n",
              "\n",
              "    .colab-df-convert:hover {\n",
              "      background-color: #E2EBFA;\n",
              "      box-shadow: 0px 1px 2px rgba(60, 64, 67, 0.3), 0px 1px 3px 1px rgba(60, 64, 67, 0.15);\n",
              "      fill: #174EA6;\n",
              "    }\n",
              "\n",
              "    [theme=dark] .colab-df-convert {\n",
              "      background-color: #3B4455;\n",
              "      fill: #D2E3FC;\n",
              "    }\n",
              "\n",
              "    [theme=dark] .colab-df-convert:hover {\n",
              "      background-color: #434B5C;\n",
              "      box-shadow: 0px 1px 3px 1px rgba(0, 0, 0, 0.15);\n",
              "      filter: drop-shadow(0px 1px 2px rgba(0, 0, 0, 0.3));\n",
              "      fill: #FFFFFF;\n",
              "    }\n",
              "  </style>\n",
              "\n",
              "      <script>\n",
              "        const buttonEl =\n",
              "          document.querySelector('#df-17713ee3-2eda-4240-a454-5d9626eca46d button.colab-df-convert');\n",
              "        buttonEl.style.display =\n",
              "          google.colab.kernel.accessAllowed ? 'block' : 'none';\n",
              "\n",
              "        async function convertToInteractive(key) {\n",
              "          const element = document.querySelector('#df-17713ee3-2eda-4240-a454-5d9626eca46d');\n",
              "          const dataTable =\n",
              "            await google.colab.kernel.invokeFunction('convertToInteractive',\n",
              "                                                     [key], {});\n",
              "          if (!dataTable) return;\n",
              "\n",
              "          const docLinkHtml = 'Like what you see? Visit the ' +\n",
              "            '<a target=\"_blank\" href=https://colab.research.google.com/notebooks/data_table.ipynb>data table notebook</a>'\n",
              "            + ' to learn more about interactive tables.';\n",
              "          element.innerHTML = '';\n",
              "          dataTable['output_type'] = 'display_data';\n",
              "          await google.colab.output.renderOutput(dataTable, element);\n",
              "          const docLink = document.createElement('div');\n",
              "          docLink.innerHTML = docLinkHtml;\n",
              "          element.appendChild(docLink);\n",
              "        }\n",
              "      </script>\n",
              "    </div>\n",
              "  </div>\n",
              "  "
            ]
          },
          "metadata": {},
          "execution_count": 82
        }
      ]
    },
    {
      "cell_type": "code",
      "source": [
        "data[\"compliers\"] = np.where((data['recording_elegible']==1) & (data['cam_allowed'] == 1),1,0)"
      ],
      "metadata": {
        "id": "GNTbM4B9PYJ7"
      },
      "execution_count": null,
      "outputs": []
    },
    {
      "cell_type": "code",
      "source": [
        "compliers = len(data[data[\"compliers\"]==1])"
      ],
      "metadata": {
        "id": "hzx5PznKRF37"
      },
      "execution_count": null,
      "outputs": []
    },
    {
      "cell_type": "code",
      "source": [
        "compliers"
      ],
      "metadata": {
        "colab": {
          "base_uri": "https://localhost:8080/"
        },
        "id": "kPE-UjbWSJjm",
        "outputId": "7bf0d522-92da-4340-9628-4895fa4119f0"
      },
      "execution_count": null,
      "outputs": [
        {
          "output_type": "execute_result",
          "data": {
            "text/plain": [
              "98"
            ]
          },
          "metadata": {},
          "execution_count": 85
        }
      ]
    },
    {
      "cell_type": "markdown",
      "source": [
        "##98 compliers: They were asked to keep their videos on and camera was allowed."
      ],
      "metadata": {
        "id": "QNjiuHEuSQ0s"
      }
    },
    {
      "cell_type": "code",
      "source": [
        "data[['recording_elegible','cam_allowed','azure_features','video_error']].value_counts()"
      ],
      "metadata": {
        "colab": {
          "base_uri": "https://localhost:8080/"
        },
        "id": "YgbX95FjYejG",
        "outputId": "b860a26f-ad1b-40b1-a3df-985764c3da5a"
      },
      "execution_count": null,
      "outputs": [
        {
          "output_type": "execute_result",
          "data": {
            "text/plain": [
              "recording_elegible  cam_allowed  azure_features  video_error\n",
              "0                   0.0          0.0             0              141\n",
              "1                   1.0          1.0             0               61\n",
              "                                 0.0             1               25\n",
              "                    0.0          0.0             0               15\n",
              "                    1.0          0.0             0               12\n",
              "dtype: int64"
            ]
          },
          "metadata": {},
          "execution_count": 86
        }
      ]
    },
    {
      "cell_type": "markdown",
      "source": [
        "- Control group - never offered to record: 141\n",
        "- Compliers Total: 98\n",
        "   1. Perfect Video (atleast 1 frame): 61\n",
        "   2. No face shown: 12\n",
        "   3. File corrupted: 25\n",
        "- Non Compliers: 15\n"
      ],
      "metadata": {
        "id": "r1Qbpmk0Ymiq"
      }
    },
    {
      "cell_type": "code",
      "source": [
        "data[['azure_features','video_error']].value_counts()"
      ],
      "metadata": {
        "colab": {
          "base_uri": "https://localhost:8080/"
        },
        "id": "9HnrFfFdTrUv",
        "outputId": "c7f5661d-721d-447b-9f16-917daf06a215"
      },
      "execution_count": null,
      "outputs": [
        {
          "output_type": "execute_result",
          "data": {
            "text/plain": [
              "azure_features  video_error\n",
              "0.0             0              168\n",
              "1.0             0               61\n",
              "0.0             1               25\n",
              "dtype: int64"
            ]
          },
          "metadata": {},
          "execution_count": 87
        }
      ]
    },
    {
      "cell_type": "markdown",
      "source": [
        "## Complier Split up\n",
        "- For 168 survey takers, the recording was required and camera was allowed but no face was detected.\n",
        "- For 25 survey takers, the recording was corrupted after they agreed to record.\n",
        "- For 61 survey takers, the recording was perfect.\n"
      ],
      "metadata": {
        "id": "kHjcrbFcT0JX"
      }
    },
    {
      "cell_type": "code",
      "source": [
        "data.groupby(\"compliers\")[\"correct_pre_quiz\"].mean()"
      ],
      "metadata": {
        "colab": {
          "base_uri": "https://localhost:8080/"
        },
        "id": "ezp_q8ZxUgtU",
        "outputId": "47fcf6ca-e86d-44f8-ad0c-513ac58dfceb"
      },
      "execution_count": null,
      "outputs": [
        {
          "output_type": "execute_result",
          "data": {
            "text/plain": [
              "compliers\n",
              "0    1.250000\n",
              "1    1.204082\n",
              "Name: correct_pre_quiz, dtype: float64"
            ]
          },
          "metadata": {},
          "execution_count": 88
        }
      ]
    },
    {
      "cell_type": "markdown",
      "source": [
        "## Average score of compliers before watching the video was pretty low around 1.25 for both the compliers and non-compliers(control group)."
      ],
      "metadata": {
        "id": "KPdGR_B0Ve88"
      }
    },
    {
      "cell_type": "code",
      "source": [
        "data.groupby(\"compliers\")[\"correct_post_quiz\"].mean()"
      ],
      "metadata": {
        "colab": {
          "base_uri": "https://localhost:8080/"
        },
        "id": "cIJKg6ERVTxm",
        "outputId": "5caa1fc5-2d40-440a-a021-e1ea927fe2c6"
      },
      "execution_count": null,
      "outputs": [
        {
          "output_type": "execute_result",
          "data": {
            "text/plain": [
              "compliers\n",
              "0    4.743590\n",
              "1    4.857143\n",
              "Name: correct_post_quiz, dtype: float64"
            ]
          },
          "metadata": {},
          "execution_count": 89
        }
      ]
    },
    {
      "cell_type": "markdown",
      "source": [
        "## Average score of compliers after watching the video -\n",
        "\n",
        "1. Recording themselves: 4.85\n",
        "2. Without recording: 4.74"
      ],
      "metadata": {
        "id": "NwEWQIATVsl6"
      }
    },
    {
      "cell_type": "code",
      "source": [
        "data.groupby([\"recording_elegible\",\"cam_allowed\",\"azure_features\",\"video_error\"])[\"correct_pre_quiz\"].mean()"
      ],
      "metadata": {
        "colab": {
          "base_uri": "https://localhost:8080/"
        },
        "id": "bp8bL5G2VXxC",
        "outputId": "a63394a4-ca91-4002-dc6d-bacd47e51e9b"
      },
      "execution_count": null,
      "outputs": [
        {
          "output_type": "execute_result",
          "data": {
            "text/plain": [
              "recording_elegible  cam_allowed  azure_features  video_error\n",
              "0                   0.0          0.0             0              1.255319\n",
              "1                   0.0          0.0             0              1.200000\n",
              "                    1.0          0.0             0              0.583333\n",
              "                                                 1              1.160000\n",
              "                                 1.0             0              1.344262\n",
              "Name: correct_pre_quiz, dtype: float64"
            ]
          },
          "metadata": {},
          "execution_count": 90
        }
      ]
    },
    {
      "cell_type": "code",
      "source": [
        "data.groupby([\"recording_elegible\",\"cam_allowed\",\"azure_features\",\"video_error\"])[\"correct_post_quiz\"].mean()"
      ],
      "metadata": {
        "colab": {
          "base_uri": "https://localhost:8080/"
        },
        "id": "y6SQBJ3KXUll",
        "outputId": "9a03d72a-c9a4-4329-f21c-260ff852ab5c"
      },
      "execution_count": null,
      "outputs": [
        {
          "output_type": "execute_result",
          "data": {
            "text/plain": [
              "recording_elegible  cam_allowed  azure_features  video_error\n",
              "0                   0.0          0.0             0              4.765957\n",
              "1                   0.0          0.0             0              4.533333\n",
              "                    1.0          0.0             0              4.416667\n",
              "                                                 1              4.640000\n",
              "                                 1.0             0              5.032787\n",
              "Name: correct_post_quiz, dtype: float64"
            ]
          },
          "metadata": {},
          "execution_count": 91
        }
      ]
    },
    {
      "cell_type": "code",
      "source": [],
      "metadata": {
        "id": "7GyqpXrOXa6i"
      },
      "execution_count": null,
      "outputs": []
    },
    {
      "cell_type": "markdown",
      "source": [
        "## Gender wise averages"
      ],
      "metadata": {
        "id": "-lFzgrDIaSEV"
      }
    },
    {
      "cell_type": "code",
      "source": [
        "data.groupby([\"demo_gender\",\"recording_elegible\",\"cam_allowed\",\"azure_features\",\"video_error\"])[\"correct_pre_quiz\"].mean().reset_index()"
      ],
      "metadata": {
        "id": "PXds0whbaTzs",
        "colab": {
          "base_uri": "https://localhost:8080/",
          "height": 582
        },
        "outputId": "0f29fae8-792f-4e7e-f8e9-eaa2ebbab73e"
      },
      "execution_count": null,
      "outputs": [
        {
          "output_type": "execute_result",
          "data": {
            "text/plain": [
              "   demo_gender  recording_elegible  cam_allowed  azure_features  video_error  \\\n",
              "0            a                   0          0.0             0.0            0   \n",
              "1            a                   1          0.0             0.0            0   \n",
              "2            a                   1          1.0             0.0            0   \n",
              "3            a                   1          1.0             0.0            1   \n",
              "4            a                   1          1.0             1.0            0   \n",
              "5            b                   0          0.0             0.0            0   \n",
              "6            b                   1          0.0             0.0            0   \n",
              "7            b                   1          1.0             0.0            0   \n",
              "8            b                   1          1.0             0.0            1   \n",
              "9            b                   1          1.0             1.0            0   \n",
              "10           c                   0          0.0             0.0            0   \n",
              "11           c                   1          1.0             0.0            1   \n",
              "12           c                   1          1.0             1.0            0   \n",
              "13           d                   0          0.0             0.0            0   \n",
              "14           d                   1          0.0             0.0            0   \n",
              "15           d                   1          1.0             0.0            0   \n",
              "16           d                   1          1.0             1.0            0   \n",
              "\n",
              "    correct_pre_quiz  \n",
              "0           1.270270  \n",
              "1           1.375000  \n",
              "2           0.714286  \n",
              "3           1.000000  \n",
              "4           1.393939  \n",
              "5           1.333333  \n",
              "6           1.200000  \n",
              "7           0.500000  \n",
              "8           1.363636  \n",
              "9           1.360000  \n",
              "10          1.000000  \n",
              "11          1.000000  \n",
              "12          1.000000  \n",
              "13          0.625000  \n",
              "14          0.500000  \n",
              "15          0.000000  \n",
              "16          0.000000  "
            ],
            "text/html": [
              "\n",
              "  <div id=\"df-d4f31151-1f28-4c70-a240-b3b298b269cb\">\n",
              "    <div class=\"colab-df-container\">\n",
              "      <div>\n",
              "<style scoped>\n",
              "    .dataframe tbody tr th:only-of-type {\n",
              "        vertical-align: middle;\n",
              "    }\n",
              "\n",
              "    .dataframe tbody tr th {\n",
              "        vertical-align: top;\n",
              "    }\n",
              "\n",
              "    .dataframe thead th {\n",
              "        text-align: right;\n",
              "    }\n",
              "</style>\n",
              "<table border=\"1\" class=\"dataframe\">\n",
              "  <thead>\n",
              "    <tr style=\"text-align: right;\">\n",
              "      <th></th>\n",
              "      <th>demo_gender</th>\n",
              "      <th>recording_elegible</th>\n",
              "      <th>cam_allowed</th>\n",
              "      <th>azure_features</th>\n",
              "      <th>video_error</th>\n",
              "      <th>correct_pre_quiz</th>\n",
              "    </tr>\n",
              "  </thead>\n",
              "  <tbody>\n",
              "    <tr>\n",
              "      <th>0</th>\n",
              "      <td>a</td>\n",
              "      <td>0</td>\n",
              "      <td>0.0</td>\n",
              "      <td>0.0</td>\n",
              "      <td>0</td>\n",
              "      <td>1.270270</td>\n",
              "    </tr>\n",
              "    <tr>\n",
              "      <th>1</th>\n",
              "      <td>a</td>\n",
              "      <td>1</td>\n",
              "      <td>0.0</td>\n",
              "      <td>0.0</td>\n",
              "      <td>0</td>\n",
              "      <td>1.375000</td>\n",
              "    </tr>\n",
              "    <tr>\n",
              "      <th>2</th>\n",
              "      <td>a</td>\n",
              "      <td>1</td>\n",
              "      <td>1.0</td>\n",
              "      <td>0.0</td>\n",
              "      <td>0</td>\n",
              "      <td>0.714286</td>\n",
              "    </tr>\n",
              "    <tr>\n",
              "      <th>3</th>\n",
              "      <td>a</td>\n",
              "      <td>1</td>\n",
              "      <td>1.0</td>\n",
              "      <td>0.0</td>\n",
              "      <td>1</td>\n",
              "      <td>1.000000</td>\n",
              "    </tr>\n",
              "    <tr>\n",
              "      <th>4</th>\n",
              "      <td>a</td>\n",
              "      <td>1</td>\n",
              "      <td>1.0</td>\n",
              "      <td>1.0</td>\n",
              "      <td>0</td>\n",
              "      <td>1.393939</td>\n",
              "    </tr>\n",
              "    <tr>\n",
              "      <th>5</th>\n",
              "      <td>b</td>\n",
              "      <td>0</td>\n",
              "      <td>0.0</td>\n",
              "      <td>0.0</td>\n",
              "      <td>0</td>\n",
              "      <td>1.333333</td>\n",
              "    </tr>\n",
              "    <tr>\n",
              "      <th>6</th>\n",
              "      <td>b</td>\n",
              "      <td>1</td>\n",
              "      <td>0.0</td>\n",
              "      <td>0.0</td>\n",
              "      <td>0</td>\n",
              "      <td>1.200000</td>\n",
              "    </tr>\n",
              "    <tr>\n",
              "      <th>7</th>\n",
              "      <td>b</td>\n",
              "      <td>1</td>\n",
              "      <td>1.0</td>\n",
              "      <td>0.0</td>\n",
              "      <td>0</td>\n",
              "      <td>0.500000</td>\n",
              "    </tr>\n",
              "    <tr>\n",
              "      <th>8</th>\n",
              "      <td>b</td>\n",
              "      <td>1</td>\n",
              "      <td>1.0</td>\n",
              "      <td>0.0</td>\n",
              "      <td>1</td>\n",
              "      <td>1.363636</td>\n",
              "    </tr>\n",
              "    <tr>\n",
              "      <th>9</th>\n",
              "      <td>b</td>\n",
              "      <td>1</td>\n",
              "      <td>1.0</td>\n",
              "      <td>1.0</td>\n",
              "      <td>0</td>\n",
              "      <td>1.360000</td>\n",
              "    </tr>\n",
              "    <tr>\n",
              "      <th>10</th>\n",
              "      <td>c</td>\n",
              "      <td>0</td>\n",
              "      <td>0.0</td>\n",
              "      <td>0.0</td>\n",
              "      <td>0</td>\n",
              "      <td>1.000000</td>\n",
              "    </tr>\n",
              "    <tr>\n",
              "      <th>11</th>\n",
              "      <td>c</td>\n",
              "      <td>1</td>\n",
              "      <td>1.0</td>\n",
              "      <td>0.0</td>\n",
              "      <td>1</td>\n",
              "      <td>1.000000</td>\n",
              "    </tr>\n",
              "    <tr>\n",
              "      <th>12</th>\n",
              "      <td>c</td>\n",
              "      <td>1</td>\n",
              "      <td>1.0</td>\n",
              "      <td>1.0</td>\n",
              "      <td>0</td>\n",
              "      <td>1.000000</td>\n",
              "    </tr>\n",
              "    <tr>\n",
              "      <th>13</th>\n",
              "      <td>d</td>\n",
              "      <td>0</td>\n",
              "      <td>0.0</td>\n",
              "      <td>0.0</td>\n",
              "      <td>0</td>\n",
              "      <td>0.625000</td>\n",
              "    </tr>\n",
              "    <tr>\n",
              "      <th>14</th>\n",
              "      <td>d</td>\n",
              "      <td>1</td>\n",
              "      <td>0.0</td>\n",
              "      <td>0.0</td>\n",
              "      <td>0</td>\n",
              "      <td>0.500000</td>\n",
              "    </tr>\n",
              "    <tr>\n",
              "      <th>15</th>\n",
              "      <td>d</td>\n",
              "      <td>1</td>\n",
              "      <td>1.0</td>\n",
              "      <td>0.0</td>\n",
              "      <td>0</td>\n",
              "      <td>0.000000</td>\n",
              "    </tr>\n",
              "    <tr>\n",
              "      <th>16</th>\n",
              "      <td>d</td>\n",
              "      <td>1</td>\n",
              "      <td>1.0</td>\n",
              "      <td>1.0</td>\n",
              "      <td>0</td>\n",
              "      <td>0.000000</td>\n",
              "    </tr>\n",
              "  </tbody>\n",
              "</table>\n",
              "</div>\n",
              "      <button class=\"colab-df-convert\" onclick=\"convertToInteractive('df-d4f31151-1f28-4c70-a240-b3b298b269cb')\"\n",
              "              title=\"Convert this dataframe to an interactive table.\"\n",
              "              style=\"display:none;\">\n",
              "        \n",
              "  <svg xmlns=\"http://www.w3.org/2000/svg\" height=\"24px\"viewBox=\"0 0 24 24\"\n",
              "       width=\"24px\">\n",
              "    <path d=\"M0 0h24v24H0V0z\" fill=\"none\"/>\n",
              "    <path d=\"M18.56 5.44l.94 2.06.94-2.06 2.06-.94-2.06-.94-.94-2.06-.94 2.06-2.06.94zm-11 1L8.5 8.5l.94-2.06 2.06-.94-2.06-.94L8.5 2.5l-.94 2.06-2.06.94zm10 10l.94 2.06.94-2.06 2.06-.94-2.06-.94-.94-2.06-.94 2.06-2.06.94z\"/><path d=\"M17.41 7.96l-1.37-1.37c-.4-.4-.92-.59-1.43-.59-.52 0-1.04.2-1.43.59L10.3 9.45l-7.72 7.72c-.78.78-.78 2.05 0 2.83L4 21.41c.39.39.9.59 1.41.59.51 0 1.02-.2 1.41-.59l7.78-7.78 2.81-2.81c.8-.78.8-2.07 0-2.86zM5.41 20L4 18.59l7.72-7.72 1.47 1.35L5.41 20z\"/>\n",
              "  </svg>\n",
              "      </button>\n",
              "      \n",
              "  <style>\n",
              "    .colab-df-container {\n",
              "      display:flex;\n",
              "      flex-wrap:wrap;\n",
              "      gap: 12px;\n",
              "    }\n",
              "\n",
              "    .colab-df-convert {\n",
              "      background-color: #E8F0FE;\n",
              "      border: none;\n",
              "      border-radius: 50%;\n",
              "      cursor: pointer;\n",
              "      display: none;\n",
              "      fill: #1967D2;\n",
              "      height: 32px;\n",
              "      padding: 0 0 0 0;\n",
              "      width: 32px;\n",
              "    }\n",
              "\n",
              "    .colab-df-convert:hover {\n",
              "      background-color: #E2EBFA;\n",
              "      box-shadow: 0px 1px 2px rgba(60, 64, 67, 0.3), 0px 1px 3px 1px rgba(60, 64, 67, 0.15);\n",
              "      fill: #174EA6;\n",
              "    }\n",
              "\n",
              "    [theme=dark] .colab-df-convert {\n",
              "      background-color: #3B4455;\n",
              "      fill: #D2E3FC;\n",
              "    }\n",
              "\n",
              "    [theme=dark] .colab-df-convert:hover {\n",
              "      background-color: #434B5C;\n",
              "      box-shadow: 0px 1px 3px 1px rgba(0, 0, 0, 0.15);\n",
              "      filter: drop-shadow(0px 1px 2px rgba(0, 0, 0, 0.3));\n",
              "      fill: #FFFFFF;\n",
              "    }\n",
              "  </style>\n",
              "\n",
              "      <script>\n",
              "        const buttonEl =\n",
              "          document.querySelector('#df-d4f31151-1f28-4c70-a240-b3b298b269cb button.colab-df-convert');\n",
              "        buttonEl.style.display =\n",
              "          google.colab.kernel.accessAllowed ? 'block' : 'none';\n",
              "\n",
              "        async function convertToInteractive(key) {\n",
              "          const element = document.querySelector('#df-d4f31151-1f28-4c70-a240-b3b298b269cb');\n",
              "          const dataTable =\n",
              "            await google.colab.kernel.invokeFunction('convertToInteractive',\n",
              "                                                     [key], {});\n",
              "          if (!dataTable) return;\n",
              "\n",
              "          const docLinkHtml = 'Like what you see? Visit the ' +\n",
              "            '<a target=\"_blank\" href=https://colab.research.google.com/notebooks/data_table.ipynb>data table notebook</a>'\n",
              "            + ' to learn more about interactive tables.';\n",
              "          element.innerHTML = '';\n",
              "          dataTable['output_type'] = 'display_data';\n",
              "          await google.colab.output.renderOutput(dataTable, element);\n",
              "          const docLink = document.createElement('div');\n",
              "          docLink.innerHTML = docLinkHtml;\n",
              "          element.appendChild(docLink);\n",
              "        }\n",
              "      </script>\n",
              "    </div>\n",
              "  </div>\n",
              "  "
            ]
          },
          "metadata": {},
          "execution_count": 92
        }
      ]
    },
    {
      "cell_type": "markdown",
      "source": [
        "## Male, Female and Other gender wise average pre video scores above"
      ],
      "metadata": {
        "id": "92UUZSpdWH4-"
      }
    },
    {
      "cell_type": "code",
      "source": [
        "data.groupby([\"demo_gender\",\"recording_elegible\",\"cam_allowed\",\"azure_features\",\"video_error\"])[\"correct_post_quiz\"].mean().reset_index()"
      ],
      "metadata": {
        "id": "KholpJi7a500",
        "colab": {
          "base_uri": "https://localhost:8080/",
          "height": 582
        },
        "outputId": "4804b223-11c8-4e8b-d3e8-ecd7cd2fc0d4"
      },
      "execution_count": null,
      "outputs": [
        {
          "output_type": "execute_result",
          "data": {
            "text/plain": [
              "   demo_gender  recording_elegible  cam_allowed  azure_features  video_error  \\\n",
              "0            a                   0          0.0             0.0            0   \n",
              "1            a                   1          0.0             0.0            0   \n",
              "2            a                   1          1.0             0.0            0   \n",
              "3            a                   1          1.0             0.0            1   \n",
              "4            a                   1          1.0             1.0            0   \n",
              "5            b                   0          0.0             0.0            0   \n",
              "6            b                   1          0.0             0.0            0   \n",
              "7            b                   1          1.0             0.0            0   \n",
              "8            b                   1          1.0             0.0            1   \n",
              "9            b                   1          1.0             1.0            0   \n",
              "10           c                   0          0.0             0.0            0   \n",
              "11           c                   1          1.0             0.0            1   \n",
              "12           c                   1          1.0             1.0            0   \n",
              "13           d                   0          0.0             0.0            0   \n",
              "14           d                   1          0.0             0.0            0   \n",
              "15           d                   1          1.0             0.0            0   \n",
              "16           d                   1          1.0             1.0            0   \n",
              "\n",
              "    correct_post_quiz  \n",
              "0            5.067568  \n",
              "1            5.125000  \n",
              "2            4.428571  \n",
              "3            5.230769  \n",
              "4            4.727273  \n",
              "5            4.789474  \n",
              "6            3.800000  \n",
              "7            4.250000  \n",
              "8            4.363636  \n",
              "9            5.520000  \n",
              "10           2.000000  \n",
              "11           0.000000  \n",
              "12           4.000000  \n",
              "13           2.500000  \n",
              "14           4.000000  \n",
              "15           5.000000  \n",
              "16           5.000000  "
            ],
            "text/html": [
              "\n",
              "  <div id=\"df-5cd12c8a-2265-4ea7-a557-21cd492b22a8\">\n",
              "    <div class=\"colab-df-container\">\n",
              "      <div>\n",
              "<style scoped>\n",
              "    .dataframe tbody tr th:only-of-type {\n",
              "        vertical-align: middle;\n",
              "    }\n",
              "\n",
              "    .dataframe tbody tr th {\n",
              "        vertical-align: top;\n",
              "    }\n",
              "\n",
              "    .dataframe thead th {\n",
              "        text-align: right;\n",
              "    }\n",
              "</style>\n",
              "<table border=\"1\" class=\"dataframe\">\n",
              "  <thead>\n",
              "    <tr style=\"text-align: right;\">\n",
              "      <th></th>\n",
              "      <th>demo_gender</th>\n",
              "      <th>recording_elegible</th>\n",
              "      <th>cam_allowed</th>\n",
              "      <th>azure_features</th>\n",
              "      <th>video_error</th>\n",
              "      <th>correct_post_quiz</th>\n",
              "    </tr>\n",
              "  </thead>\n",
              "  <tbody>\n",
              "    <tr>\n",
              "      <th>0</th>\n",
              "      <td>a</td>\n",
              "      <td>0</td>\n",
              "      <td>0.0</td>\n",
              "      <td>0.0</td>\n",
              "      <td>0</td>\n",
              "      <td>5.067568</td>\n",
              "    </tr>\n",
              "    <tr>\n",
              "      <th>1</th>\n",
              "      <td>a</td>\n",
              "      <td>1</td>\n",
              "      <td>0.0</td>\n",
              "      <td>0.0</td>\n",
              "      <td>0</td>\n",
              "      <td>5.125000</td>\n",
              "    </tr>\n",
              "    <tr>\n",
              "      <th>2</th>\n",
              "      <td>a</td>\n",
              "      <td>1</td>\n",
              "      <td>1.0</td>\n",
              "      <td>0.0</td>\n",
              "      <td>0</td>\n",
              "      <td>4.428571</td>\n",
              "    </tr>\n",
              "    <tr>\n",
              "      <th>3</th>\n",
              "      <td>a</td>\n",
              "      <td>1</td>\n",
              "      <td>1.0</td>\n",
              "      <td>0.0</td>\n",
              "      <td>1</td>\n",
              "      <td>5.230769</td>\n",
              "    </tr>\n",
              "    <tr>\n",
              "      <th>4</th>\n",
              "      <td>a</td>\n",
              "      <td>1</td>\n",
              "      <td>1.0</td>\n",
              "      <td>1.0</td>\n",
              "      <td>0</td>\n",
              "      <td>4.727273</td>\n",
              "    </tr>\n",
              "    <tr>\n",
              "      <th>5</th>\n",
              "      <td>b</td>\n",
              "      <td>0</td>\n",
              "      <td>0.0</td>\n",
              "      <td>0.0</td>\n",
              "      <td>0</td>\n",
              "      <td>4.789474</td>\n",
              "    </tr>\n",
              "    <tr>\n",
              "      <th>6</th>\n",
              "      <td>b</td>\n",
              "      <td>1</td>\n",
              "      <td>0.0</td>\n",
              "      <td>0.0</td>\n",
              "      <td>0</td>\n",
              "      <td>3.800000</td>\n",
              "    </tr>\n",
              "    <tr>\n",
              "      <th>7</th>\n",
              "      <td>b</td>\n",
              "      <td>1</td>\n",
              "      <td>1.0</td>\n",
              "      <td>0.0</td>\n",
              "      <td>0</td>\n",
              "      <td>4.250000</td>\n",
              "    </tr>\n",
              "    <tr>\n",
              "      <th>8</th>\n",
              "      <td>b</td>\n",
              "      <td>1</td>\n",
              "      <td>1.0</td>\n",
              "      <td>0.0</td>\n",
              "      <td>1</td>\n",
              "      <td>4.363636</td>\n",
              "    </tr>\n",
              "    <tr>\n",
              "      <th>9</th>\n",
              "      <td>b</td>\n",
              "      <td>1</td>\n",
              "      <td>1.0</td>\n",
              "      <td>1.0</td>\n",
              "      <td>0</td>\n",
              "      <td>5.520000</td>\n",
              "    </tr>\n",
              "    <tr>\n",
              "      <th>10</th>\n",
              "      <td>c</td>\n",
              "      <td>0</td>\n",
              "      <td>0.0</td>\n",
              "      <td>0.0</td>\n",
              "      <td>0</td>\n",
              "      <td>2.000000</td>\n",
              "    </tr>\n",
              "    <tr>\n",
              "      <th>11</th>\n",
              "      <td>c</td>\n",
              "      <td>1</td>\n",
              "      <td>1.0</td>\n",
              "      <td>0.0</td>\n",
              "      <td>1</td>\n",
              "      <td>0.000000</td>\n",
              "    </tr>\n",
              "    <tr>\n",
              "      <th>12</th>\n",
              "      <td>c</td>\n",
              "      <td>1</td>\n",
              "      <td>1.0</td>\n",
              "      <td>1.0</td>\n",
              "      <td>0</td>\n",
              "      <td>4.000000</td>\n",
              "    </tr>\n",
              "    <tr>\n",
              "      <th>13</th>\n",
              "      <td>d</td>\n",
              "      <td>0</td>\n",
              "      <td>0.0</td>\n",
              "      <td>0.0</td>\n",
              "      <td>0</td>\n",
              "      <td>2.500000</td>\n",
              "    </tr>\n",
              "    <tr>\n",
              "      <th>14</th>\n",
              "      <td>d</td>\n",
              "      <td>1</td>\n",
              "      <td>0.0</td>\n",
              "      <td>0.0</td>\n",
              "      <td>0</td>\n",
              "      <td>4.000000</td>\n",
              "    </tr>\n",
              "    <tr>\n",
              "      <th>15</th>\n",
              "      <td>d</td>\n",
              "      <td>1</td>\n",
              "      <td>1.0</td>\n",
              "      <td>0.0</td>\n",
              "      <td>0</td>\n",
              "      <td>5.000000</td>\n",
              "    </tr>\n",
              "    <tr>\n",
              "      <th>16</th>\n",
              "      <td>d</td>\n",
              "      <td>1</td>\n",
              "      <td>1.0</td>\n",
              "      <td>1.0</td>\n",
              "      <td>0</td>\n",
              "      <td>5.000000</td>\n",
              "    </tr>\n",
              "  </tbody>\n",
              "</table>\n",
              "</div>\n",
              "      <button class=\"colab-df-convert\" onclick=\"convertToInteractive('df-5cd12c8a-2265-4ea7-a557-21cd492b22a8')\"\n",
              "              title=\"Convert this dataframe to an interactive table.\"\n",
              "              style=\"display:none;\">\n",
              "        \n",
              "  <svg xmlns=\"http://www.w3.org/2000/svg\" height=\"24px\"viewBox=\"0 0 24 24\"\n",
              "       width=\"24px\">\n",
              "    <path d=\"M0 0h24v24H0V0z\" fill=\"none\"/>\n",
              "    <path d=\"M18.56 5.44l.94 2.06.94-2.06 2.06-.94-2.06-.94-.94-2.06-.94 2.06-2.06.94zm-11 1L8.5 8.5l.94-2.06 2.06-.94-2.06-.94L8.5 2.5l-.94 2.06-2.06.94zm10 10l.94 2.06.94-2.06 2.06-.94-2.06-.94-.94-2.06-.94 2.06-2.06.94z\"/><path d=\"M17.41 7.96l-1.37-1.37c-.4-.4-.92-.59-1.43-.59-.52 0-1.04.2-1.43.59L10.3 9.45l-7.72 7.72c-.78.78-.78 2.05 0 2.83L4 21.41c.39.39.9.59 1.41.59.51 0 1.02-.2 1.41-.59l7.78-7.78 2.81-2.81c.8-.78.8-2.07 0-2.86zM5.41 20L4 18.59l7.72-7.72 1.47 1.35L5.41 20z\"/>\n",
              "  </svg>\n",
              "      </button>\n",
              "      \n",
              "  <style>\n",
              "    .colab-df-container {\n",
              "      display:flex;\n",
              "      flex-wrap:wrap;\n",
              "      gap: 12px;\n",
              "    }\n",
              "\n",
              "    .colab-df-convert {\n",
              "      background-color: #E8F0FE;\n",
              "      border: none;\n",
              "      border-radius: 50%;\n",
              "      cursor: pointer;\n",
              "      display: none;\n",
              "      fill: #1967D2;\n",
              "      height: 32px;\n",
              "      padding: 0 0 0 0;\n",
              "      width: 32px;\n",
              "    }\n",
              "\n",
              "    .colab-df-convert:hover {\n",
              "      background-color: #E2EBFA;\n",
              "      box-shadow: 0px 1px 2px rgba(60, 64, 67, 0.3), 0px 1px 3px 1px rgba(60, 64, 67, 0.15);\n",
              "      fill: #174EA6;\n",
              "    }\n",
              "\n",
              "    [theme=dark] .colab-df-convert {\n",
              "      background-color: #3B4455;\n",
              "      fill: #D2E3FC;\n",
              "    }\n",
              "\n",
              "    [theme=dark] .colab-df-convert:hover {\n",
              "      background-color: #434B5C;\n",
              "      box-shadow: 0px 1px 3px 1px rgba(0, 0, 0, 0.15);\n",
              "      filter: drop-shadow(0px 1px 2px rgba(0, 0, 0, 0.3));\n",
              "      fill: #FFFFFF;\n",
              "    }\n",
              "  </style>\n",
              "\n",
              "      <script>\n",
              "        const buttonEl =\n",
              "          document.querySelector('#df-5cd12c8a-2265-4ea7-a557-21cd492b22a8 button.colab-df-convert');\n",
              "        buttonEl.style.display =\n",
              "          google.colab.kernel.accessAllowed ? 'block' : 'none';\n",
              "\n",
              "        async function convertToInteractive(key) {\n",
              "          const element = document.querySelector('#df-5cd12c8a-2265-4ea7-a557-21cd492b22a8');\n",
              "          const dataTable =\n",
              "            await google.colab.kernel.invokeFunction('convertToInteractive',\n",
              "                                                     [key], {});\n",
              "          if (!dataTable) return;\n",
              "\n",
              "          const docLinkHtml = 'Like what you see? Visit the ' +\n",
              "            '<a target=\"_blank\" href=https://colab.research.google.com/notebooks/data_table.ipynb>data table notebook</a>'\n",
              "            + ' to learn more about interactive tables.';\n",
              "          element.innerHTML = '';\n",
              "          dataTable['output_type'] = 'display_data';\n",
              "          await google.colab.output.renderOutput(dataTable, element);\n",
              "          const docLink = document.createElement('div');\n",
              "          docLink.innerHTML = docLinkHtml;\n",
              "          element.appendChild(docLink);\n",
              "        }\n",
              "      </script>\n",
              "    </div>\n",
              "  </div>\n",
              "  "
            ]
          },
          "metadata": {},
          "execution_count": 93
        }
      ]
    },
    {
      "cell_type": "markdown",
      "source": [
        "## Male, Female and Other gender wise average post video scores above"
      ],
      "metadata": {
        "id": "UdLPj0jWWUbw"
      }
    },
    {
      "cell_type": "code",
      "source": [
        "data = pd.read_csv(\"/content/gdrive/MyDrive/ParticipantData12Dec2022.csv\")"
      ],
      "metadata": {
        "id": "aHz6popSa6DY"
      },
      "execution_count": null,
      "outputs": []
    },
    {
      "cell_type": "code",
      "source": [
        "data[\"compliers\"] = np.where((data['recording_elegible']==1) & (data['cam_allowed'] == 1),1,0)"
      ],
      "metadata": {
        "id": "IwwIDTwqgNme"
      },
      "execution_count": null,
      "outputs": []
    },
    {
      "cell_type": "code",
      "source": [
        "data[\"correct_pre_quiz\"] = data[\"correct_pre_quiz\"]/2\n",
        "data[\"correct_post_quiz\"] = data[\"correct_post_quiz\"]/2"
      ],
      "metadata": {
        "id": "ojx8oSt4a6On"
      },
      "execution_count": null,
      "outputs": []
    },
    {
      "cell_type": "markdown",
      "source": [
        "# ITT and LATE"
      ],
      "metadata": {
        "id": "fnmWj2Cba65N"
      }
    },
    {
      "cell_type": "code",
      "source": [
        "data.columns"
      ],
      "metadata": {
        "colab": {
          "base_uri": "https://localhost:8080/"
        },
        "id": "gMc3j70xa8tU",
        "outputId": "9a3b5810-9bdb-4e23-d3ab-4a02a89a5d91"
      },
      "execution_count": null,
      "outputs": [
        {
          "output_type": "execute_result",
          "data": {
            "text/plain": [
              "Index(['participant_id', 'video_id', 'recording_elegible', 'cam_allowed',\n",
              "       'azure_features', 'video_error', 'duration_recording',\n",
              "       'survey_duration', 'pre_quiz1', 'pre_quiz2', 'post_quiz1', 'post_quiz2',\n",
              "       'post_quiz3', 'post_quiz4', 'post_quiz5', 'post_quiz6', 'post_quiz7',\n",
              "       'post_quiz8', 'self_interest', 'self_boring', 'self_confusion',\n",
              "       'self_easy', 'demo_age', 'demo_gender', 'demo_race', 'demo_ethnicity',\n",
              "       'demo_marital_status', 'demo_education', 'demo_income',\n",
              "       'demo_employment', 'demo_industry', 'demo_country', 'demo_region',\n",
              "       'correct', 'correct_pre_quiz', 'correct_post_quiz', 'self_raw_anger',\n",
              "       'self_raw_contempt', 'self_raw_disgust', 'self_raw_fear',\n",
              "       'self_raw_happiness', 'self_raw_neutral', 'self_raw_sadness',\n",
              "       'self_raw_surprise', 'reported_emotions', 'compliers'],\n",
              "      dtype='object')"
            ]
          },
          "metadata": {},
          "execution_count": 434
        }
      ]
    },
    {
      "cell_type": "code",
      "source": [
        "data = data.replace({\"demo_gender\":demo_gender,\"demo_age\":demo_age,\"demo_marital_status\":demo_marital_status,\"demo_education\":demo_education,\n",
        "                     \"demo_income\":demo_income,\"demo_employment\":demo_employment})"
      ],
      "metadata": {
        "id": "m1MuD-6-bDCM"
      },
      "execution_count": null,
      "outputs": []
    },
    {
      "cell_type": "code",
      "source": [
        "treated_effect_0 = np.mean(data[(data[\"recording_elegible\"]==0)][\"correct_post_quiz\"])\n",
        "treated_effect_1 = np.mean(data[(data[\"recording_elegible\"]==1)][\"correct_post_quiz\"])"
      ],
      "metadata": {
        "id": "TyGqsPHpcf8W"
      },
      "execution_count": null,
      "outputs": []
    },
    {
      "cell_type": "code",
      "source": [
        "treated_effect_0"
      ],
      "metadata": {
        "colab": {
          "base_uri": "https://localhost:8080/"
        },
        "id": "wOqQ5-Luhi4_",
        "outputId": "49ef4b43-e157-4c4d-ffe2-b3b85b7115ed"
      },
      "execution_count": null,
      "outputs": [
        {
          "output_type": "execute_result",
          "data": {
            "text/plain": [
              "2.382978723404255"
            ]
          },
          "metadata": {},
          "execution_count": 437
        }
      ]
    },
    {
      "cell_type": "code",
      "source": [
        "treated_effect_1"
      ],
      "metadata": {
        "colab": {
          "base_uri": "https://localhost:8080/"
        },
        "id": "XOPl2ylFp2pl",
        "outputId": "890dba22-095b-4651-ff9b-61ca13386775"
      },
      "execution_count": null,
      "outputs": [
        {
          "output_type": "execute_result",
          "data": {
            "text/plain": [
              "2.4070796460176993"
            ]
          },
          "metadata": {},
          "execution_count": 438
        }
      ]
    },
    {
      "cell_type": "code",
      "source": [
        "ITT = treated_effect_1 - treated_effect_0"
      ],
      "metadata": {
        "id": "W93fdd5hhzZP"
      },
      "execution_count": null,
      "outputs": []
    },
    {
      "cell_type": "code",
      "source": [
        "ITT"
      ],
      "metadata": {
        "colab": {
          "base_uri": "https://localhost:8080/"
        },
        "id": "Uf-1IqU9h7h2",
        "outputId": "5eafc7d7-c641-42e7-fec5-f9f6af8c33c5"
      },
      "execution_count": null,
      "outputs": [
        {
          "output_type": "execute_result",
          "data": {
            "text/plain": [
              "0.024100922613444098"
            ]
          },
          "metadata": {},
          "execution_count": 440
        }
      ]
    },
    {
      "cell_type": "markdown",
      "source": [],
      "metadata": {
        "id": "STK-T6b-i-f8"
      }
    },
    {
      "cell_type": "markdown",
      "source": [
        "### The average effect of treatment on score is 4.85 and the average effect of control on score is 4.74. So, the ITT can be defined as:\n",
        "\n",
        "### ITT = [avg(Y)|T=1] - [avg(Y)|T=0] = +0.048"
      ],
      "metadata": {
        "id": "kRKH-thliRzq"
      }
    },
    {
      "cell_type": "code",
      "source": [
        "LATE = ITT/(len(data[(data[\"compliers\"]==1)])/len(data[(data[\"recording_elegible\"]==1)]))"
      ],
      "metadata": {
        "id": "u_InX4oyh8FN"
      },
      "execution_count": null,
      "outputs": []
    },
    {
      "cell_type": "code",
      "source": [
        "LATE"
      ],
      "metadata": {
        "colab": {
          "base_uri": "https://localhost:8080/"
        },
        "id": "jPTLkkyriKBf",
        "outputId": "165d2a35-044c-483f-a269-18cab83b13a8"
      },
      "execution_count": null,
      "outputs": [
        {
          "output_type": "execute_result",
          "data": {
            "text/plain": [
              "0.027789839339991664"
            ]
          },
          "metadata": {},
          "execution_count": 442
        }
      ]
    },
    {
      "cell_type": "markdown",
      "source": [
        "LATE in this scenario is ITT/(% of Compliers in the dataset)\n",
        "\n",
        "LATE is approximately +0.027"
      ],
      "metadata": {
        "id": "hpPpUAv1jA62"
      }
    },
    {
      "cell_type": "code",
      "source": [
        "# % of never takers\n",
        "p_never_takers = len(data[(data[\"recording_elegible\"]==1) & (data[\"cam_allowed\"]==0)])/len(data[(data[\"recording_elegible\"]==1)])\n",
        "p_never_takers"
      ],
      "metadata": {
        "colab": {
          "base_uri": "https://localhost:8080/"
        },
        "id": "XoYw_bOviKs_",
        "outputId": "8419c9be-26a5-4c20-d12a-9caae10623a9"
      },
      "execution_count": null,
      "outputs": [
        {
          "output_type": "execute_result",
          "data": {
            "text/plain": [
              "0.13274336283185842"
            ]
          },
          "metadata": {},
          "execution_count": 443
        }
      ]
    },
    {
      "cell_type": "code",
      "source": [
        "# % of compliers\n",
        "p_compliers = (len(data[(data[\"compliers\"]==1)])/len(data[(data[\"recording_elegible\"]==1)]))\n",
        "p_compliers"
      ],
      "metadata": {
        "colab": {
          "base_uri": "https://localhost:8080/"
        },
        "id": "Km4drlVllohq",
        "outputId": "332664f7-f653-4636-df40-a4712f511435"
      },
      "execution_count": null,
      "outputs": [
        {
          "output_type": "execute_result",
          "data": {
            "text/plain": [
              "0.8672566371681416"
            ]
          },
          "metadata": {},
          "execution_count": 444
        }
      ]
    },
    {
      "cell_type": "code",
      "source": [
        "# Effect on Never Takers\n",
        "y_never_takers = np.mean(data[(data[\"recording_elegible\"]==1) & (data[\"cam_allowed\"]==0)][\"correct_post_quiz\"])"
      ],
      "metadata": {
        "id": "RcnZmdZgls8R"
      },
      "execution_count": null,
      "outputs": []
    },
    {
      "cell_type": "code",
      "source": [
        "y_never_takers"
      ],
      "metadata": {
        "colab": {
          "base_uri": "https://localhost:8080/"
        },
        "id": "lOkQJxZqmU0R",
        "outputId": "e28dc0a7-4a4e-4694-fe89-ea11a7e3e0a5"
      },
      "execution_count": null,
      "outputs": [
        {
          "output_type": "execute_result",
          "data": {
            "text/plain": [
              "2.2666666666666666"
            ]
          },
          "metadata": {},
          "execution_count": 446
        }
      ]
    },
    {
      "cell_type": "code",
      "source": [
        "# Effect on treated compliers\n",
        "y_treated_compliers = np.mean(data[(data[\"recording_elegible\"]==1) & (data[\"cam_allowed\"]==1)][\"correct_post_quiz\"])"
      ],
      "metadata": {
        "id": "m6yK2PF0mWIn"
      },
      "execution_count": null,
      "outputs": []
    },
    {
      "cell_type": "code",
      "source": [
        "y_treated_compliers"
      ],
      "metadata": {
        "colab": {
          "base_uri": "https://localhost:8080/"
        },
        "id": "dkE6KKKFnHOd",
        "outputId": "01ffb8aa-92b3-43c7-c597-a366abc1dc55"
      },
      "execution_count": null,
      "outputs": [
        {
          "output_type": "execute_result",
          "data": {
            "text/plain": [
              "2.4285714285714284"
            ]
          },
          "metadata": {},
          "execution_count": 448
        }
      ]
    },
    {
      "cell_type": "code",
      "source": [
        "# Effect on control compliers\n",
        "y_control_compliers = (treated_effect_0-p_never_takers*y_never_takers)/p_compliers\n",
        "y_control_compliers"
      ],
      "metadata": {
        "colab": {
          "base_uri": "https://localhost:8080/"
        },
        "id": "tKqQCf0InJLg",
        "outputId": "c953bb4a-074d-47ec-a79d-56e852a6557a"
      },
      "execution_count": null,
      "outputs": [
        {
          "output_type": "execute_result",
          "data": {
            "text/plain": [
              "2.4007815892314373"
            ]
          },
          "metadata": {},
          "execution_count": 449
        }
      ]
    },
    {
      "cell_type": "code",
      "source": [
        "y_treated_compliers - y_control_compliers"
      ],
      "metadata": {
        "colab": {
          "base_uri": "https://localhost:8080/"
        },
        "id": "8debTIHXo7XX",
        "outputId": "888593c0-625f-463b-a96d-702c7700d90b"
      },
      "execution_count": null,
      "outputs": [
        {
          "output_type": "execute_result",
          "data": {
            "text/plain": [
              "0.02778983933999113"
            ]
          },
          "metadata": {},
          "execution_count": 450
        }
      ]
    },
    {
      "cell_type": "markdown",
      "source": [
        "# OLS for ITT"
      ],
      "metadata": {
        "id": "b8k9910-sXDa"
      }
    },
    {
      "cell_type": "markdown",
      "source": [
        "### Without Heterogeneous Effect"
      ],
      "metadata": {
        "id": "g4u8GhHipBuC"
      }
    },
    {
      "cell_type": "code",
      "source": [
        "# fit simple linear regression model\n",
        "# linear_model = ols('correct_post_quiz ~ recording_elegible+cam_allowed+azure_features+video_error+survey_duration+C(demo_gender)+C(demo_age)'+\n",
        "#                    '+C(demo_marital_status)+C(demo_education)+C(demo_income)+C(demo_employment)+correct_pre_quiz',\n",
        "#                    data=data).fit()\n",
        "# linear_model = ols('correct_post_quiz ~ recording_elegible+cam_allowed+azure_features+video_error+survey_duration+correct_pre_quiz+C(demo_gender)',\n",
        "#                    data=data).fit()\n",
        "linear_model = ols('correct_post_quiz ~ recording_elegible',\n",
        "                   data=data).fit()\n",
        "# display model summary\n",
        "print(linear_model.summary())"
      ],
      "metadata": {
        "colab": {
          "base_uri": "https://localhost:8080/"
        },
        "id": "Imr4TnM3pAcg",
        "outputId": "948b2ebd-e39a-4c44-821d-cb906f9f2717"
      },
      "execution_count": null,
      "outputs": [
        {
          "output_type": "stream",
          "name": "stdout",
          "text": [
            "                            OLS Regression Results                            \n",
            "==============================================================================\n",
            "Dep. Variable:      correct_post_quiz   R-squared:                       0.000\n",
            "Model:                            OLS   Adj. R-squared:                 -0.004\n",
            "Method:                 Least Squares   F-statistic:                   0.04200\n",
            "Date:                Sat, 17 Dec 2022   Prob (F-statistic):              0.838\n",
            "Time:                        03:10:05   Log-Likelihood:                -341.35\n",
            "No. Observations:                 254   AIC:                             686.7\n",
            "Df Residuals:                     252   BIC:                             693.8\n",
            "Df Model:                           1                                         \n",
            "Covariance Type:            nonrobust                                         \n",
            "======================================================================================\n",
            "                         coef    std err          t      P>|t|      [0.025      0.975]\n",
            "--------------------------------------------------------------------------------------\n",
            "Intercept              2.3830      0.078     30.382      0.000       2.229       2.537\n",
            "recording_elegible     0.0241      0.118      0.205      0.838      -0.207       0.256\n",
            "==============================================================================\n",
            "Omnibus:                       11.662   Durbin-Watson:                   1.826\n",
            "Prob(Omnibus):                  0.003   Jarque-Bera (JB):               11.861\n",
            "Skew:                          -0.495   Prob(JB):                      0.00266\n",
            "Kurtosis:                       2.623   Cond. No.                         2.51\n",
            "==============================================================================\n",
            "\n",
            "Notes:\n",
            "[1] Standard Errors assume that the covariance matrix of the errors is correctly specified.\n"
          ]
        }
      ]
    },
    {
      "cell_type": "markdown",
      "source": [
        "### With Heterogeneous Effect"
      ],
      "metadata": {
        "id": "JjgPZI_ApKES"
      }
    },
    {
      "cell_type": "code",
      "source": [
        "data = pd.get_dummies(data, prefix=['demo_gender'], columns=['demo_gender'])\n",
        "data.columns\n",
        "data.columns = data.columns.str.replace(\" \",\"_\")\n",
        "data.columns"
      ],
      "metadata": {
        "colab": {
          "base_uri": "https://localhost:8080/"
        },
        "id": "vz3G-0gYsOQc",
        "outputId": "96539c7a-8533-4f09-f277-e74ae5555290"
      },
      "execution_count": null,
      "outputs": [
        {
          "output_type": "execute_result",
          "data": {
            "text/plain": [
              "Index(['participant_id', 'video_id', 'recording_elegible', 'cam_allowed',\n",
              "       'azure_features', 'video_error', 'duration_recording',\n",
              "       'survey_duration', 'pre_quiz1', 'pre_quiz2', 'post_quiz1', 'post_quiz2',\n",
              "       'post_quiz3', 'post_quiz4', 'post_quiz5', 'post_quiz6', 'post_quiz7',\n",
              "       'post_quiz8', 'self_interest', 'self_boring', 'self_confusion',\n",
              "       'self_easy', 'demo_age', 'demo_race', 'demo_ethnicity',\n",
              "       'demo_marital_status', 'demo_education', 'demo_income',\n",
              "       'demo_employment', 'demo_industry', 'demo_country', 'demo_region',\n",
              "       'correct', 'correct_pre_quiz', 'correct_post_quiz', 'self_raw_anger',\n",
              "       'self_raw_contempt', 'self_raw_disgust', 'self_raw_fear',\n",
              "       'self_raw_happiness', 'self_raw_neutral', 'self_raw_sadness',\n",
              "       'self_raw_surprise', 'reported_emotions', 'compliers',\n",
              "       'demo_gender_Female', 'demo_gender_Male', 'demo_gender_Other',\n",
              "       'demo_gender_Prefer_not_to_say'],\n",
              "      dtype='object')"
            ]
          },
          "metadata": {},
          "execution_count": 452
        }
      ]
    },
    {
      "cell_type": "code",
      "source": [
        "data[\"Male_Female\"] = data[\"demo_gender_Male\"]+(-1*data[\"demo_gender_Female\"])\n",
        "data[\"Male_Female\"].replace(-1,0,inplace=True)\n",
        "data.head()"
      ],
      "metadata": {
        "colab": {
          "base_uri": "https://localhost:8080/",
          "height": 300
        },
        "id": "h_nRjFfS6QnL",
        "outputId": "866767e5-4df2-43b1-ed34-62b19171c35b"
      },
      "execution_count": null,
      "outputs": [
        {
          "output_type": "execute_result",
          "data": {
            "text/plain": [
              "   participant_id  video_id  recording_elegible  cam_allowed  azure_features  \\\n",
              "0         5391298     13201                   0          0.0             0.0   \n",
              "1         5202198     13201                   0          0.0             0.0   \n",
              "2          415738     13201                   0          0.0             0.0   \n",
              "3         8137098     13201                   0          0.0             0.0   \n",
              "4         3651718     13201                   0          0.0             0.0   \n",
              "\n",
              "   video_error  duration_recording  survey_duration pre_quiz1 pre_quiz2  ...  \\\n",
              "0            0                 NaN              767         a         d  ...   \n",
              "1            0                 NaN              536         a         c  ...   \n",
              "2            0                 NaN              665         a         c  ...   \n",
              "3            0                 NaN             1137         d         c  ...   \n",
              "4            0                 NaN              318         a         c  ...   \n",
              "\n",
              "  self_raw_neutral self_raw_sadness self_raw_surprise reported_emotions  \\\n",
              "0              1.0              0.0               0.0               1.0   \n",
              "1              1.0              0.0               0.0               1.0   \n",
              "2              1.0              0.0               0.0               1.0   \n",
              "3              0.0              0.0               0.0               1.0   \n",
              "4              1.0              0.0               0.0               1.0   \n",
              "\n",
              "  compliers demo_gender_Female demo_gender_Male demo_gender_Other  \\\n",
              "0         0                  0                1                 0   \n",
              "1         0                  1                0                 0   \n",
              "2         0                  0                1                 0   \n",
              "3         0                  0                1                 0   \n",
              "4         0                  0                1                 0   \n",
              "\n",
              "   demo_gender_Prefer_not_to_say  Male_Female  \n",
              "0                              0            1  \n",
              "1                              0            0  \n",
              "2                              0            1  \n",
              "3                              0            1  \n",
              "4                              0            1  \n",
              "\n",
              "[5 rows x 50 columns]"
            ],
            "text/html": [
              "\n",
              "  <div id=\"df-669d7c77-da00-4ff8-8949-dbd864f7edc5\">\n",
              "    <div class=\"colab-df-container\">\n",
              "      <div>\n",
              "<style scoped>\n",
              "    .dataframe tbody tr th:only-of-type {\n",
              "        vertical-align: middle;\n",
              "    }\n",
              "\n",
              "    .dataframe tbody tr th {\n",
              "        vertical-align: top;\n",
              "    }\n",
              "\n",
              "    .dataframe thead th {\n",
              "        text-align: right;\n",
              "    }\n",
              "</style>\n",
              "<table border=\"1\" class=\"dataframe\">\n",
              "  <thead>\n",
              "    <tr style=\"text-align: right;\">\n",
              "      <th></th>\n",
              "      <th>participant_id</th>\n",
              "      <th>video_id</th>\n",
              "      <th>recording_elegible</th>\n",
              "      <th>cam_allowed</th>\n",
              "      <th>azure_features</th>\n",
              "      <th>video_error</th>\n",
              "      <th>duration_recording</th>\n",
              "      <th>survey_duration</th>\n",
              "      <th>pre_quiz1</th>\n",
              "      <th>pre_quiz2</th>\n",
              "      <th>...</th>\n",
              "      <th>self_raw_neutral</th>\n",
              "      <th>self_raw_sadness</th>\n",
              "      <th>self_raw_surprise</th>\n",
              "      <th>reported_emotions</th>\n",
              "      <th>compliers</th>\n",
              "      <th>demo_gender_Female</th>\n",
              "      <th>demo_gender_Male</th>\n",
              "      <th>demo_gender_Other</th>\n",
              "      <th>demo_gender_Prefer_not_to_say</th>\n",
              "      <th>Male_Female</th>\n",
              "    </tr>\n",
              "  </thead>\n",
              "  <tbody>\n",
              "    <tr>\n",
              "      <th>0</th>\n",
              "      <td>5391298</td>\n",
              "      <td>13201</td>\n",
              "      <td>0</td>\n",
              "      <td>0.0</td>\n",
              "      <td>0.0</td>\n",
              "      <td>0</td>\n",
              "      <td>NaN</td>\n",
              "      <td>767</td>\n",
              "      <td>a</td>\n",
              "      <td>d</td>\n",
              "      <td>...</td>\n",
              "      <td>1.0</td>\n",
              "      <td>0.0</td>\n",
              "      <td>0.0</td>\n",
              "      <td>1.0</td>\n",
              "      <td>0</td>\n",
              "      <td>0</td>\n",
              "      <td>1</td>\n",
              "      <td>0</td>\n",
              "      <td>0</td>\n",
              "      <td>1</td>\n",
              "    </tr>\n",
              "    <tr>\n",
              "      <th>1</th>\n",
              "      <td>5202198</td>\n",
              "      <td>13201</td>\n",
              "      <td>0</td>\n",
              "      <td>0.0</td>\n",
              "      <td>0.0</td>\n",
              "      <td>0</td>\n",
              "      <td>NaN</td>\n",
              "      <td>536</td>\n",
              "      <td>a</td>\n",
              "      <td>c</td>\n",
              "      <td>...</td>\n",
              "      <td>1.0</td>\n",
              "      <td>0.0</td>\n",
              "      <td>0.0</td>\n",
              "      <td>1.0</td>\n",
              "      <td>0</td>\n",
              "      <td>1</td>\n",
              "      <td>0</td>\n",
              "      <td>0</td>\n",
              "      <td>0</td>\n",
              "      <td>0</td>\n",
              "    </tr>\n",
              "    <tr>\n",
              "      <th>2</th>\n",
              "      <td>415738</td>\n",
              "      <td>13201</td>\n",
              "      <td>0</td>\n",
              "      <td>0.0</td>\n",
              "      <td>0.0</td>\n",
              "      <td>0</td>\n",
              "      <td>NaN</td>\n",
              "      <td>665</td>\n",
              "      <td>a</td>\n",
              "      <td>c</td>\n",
              "      <td>...</td>\n",
              "      <td>1.0</td>\n",
              "      <td>0.0</td>\n",
              "      <td>0.0</td>\n",
              "      <td>1.0</td>\n",
              "      <td>0</td>\n",
              "      <td>0</td>\n",
              "      <td>1</td>\n",
              "      <td>0</td>\n",
              "      <td>0</td>\n",
              "      <td>1</td>\n",
              "    </tr>\n",
              "    <tr>\n",
              "      <th>3</th>\n",
              "      <td>8137098</td>\n",
              "      <td>13201</td>\n",
              "      <td>0</td>\n",
              "      <td>0.0</td>\n",
              "      <td>0.0</td>\n",
              "      <td>0</td>\n",
              "      <td>NaN</td>\n",
              "      <td>1137</td>\n",
              "      <td>d</td>\n",
              "      <td>c</td>\n",
              "      <td>...</td>\n",
              "      <td>0.0</td>\n",
              "      <td>0.0</td>\n",
              "      <td>0.0</td>\n",
              "      <td>1.0</td>\n",
              "      <td>0</td>\n",
              "      <td>0</td>\n",
              "      <td>1</td>\n",
              "      <td>0</td>\n",
              "      <td>0</td>\n",
              "      <td>1</td>\n",
              "    </tr>\n",
              "    <tr>\n",
              "      <th>4</th>\n",
              "      <td>3651718</td>\n",
              "      <td>13201</td>\n",
              "      <td>0</td>\n",
              "      <td>0.0</td>\n",
              "      <td>0.0</td>\n",
              "      <td>0</td>\n",
              "      <td>NaN</td>\n",
              "      <td>318</td>\n",
              "      <td>a</td>\n",
              "      <td>c</td>\n",
              "      <td>...</td>\n",
              "      <td>1.0</td>\n",
              "      <td>0.0</td>\n",
              "      <td>0.0</td>\n",
              "      <td>1.0</td>\n",
              "      <td>0</td>\n",
              "      <td>0</td>\n",
              "      <td>1</td>\n",
              "      <td>0</td>\n",
              "      <td>0</td>\n",
              "      <td>1</td>\n",
              "    </tr>\n",
              "  </tbody>\n",
              "</table>\n",
              "<p>5 rows × 50 columns</p>\n",
              "</div>\n",
              "      <button class=\"colab-df-convert\" onclick=\"convertToInteractive('df-669d7c77-da00-4ff8-8949-dbd864f7edc5')\"\n",
              "              title=\"Convert this dataframe to an interactive table.\"\n",
              "              style=\"display:none;\">\n",
              "        \n",
              "  <svg xmlns=\"http://www.w3.org/2000/svg\" height=\"24px\"viewBox=\"0 0 24 24\"\n",
              "       width=\"24px\">\n",
              "    <path d=\"M0 0h24v24H0V0z\" fill=\"none\"/>\n",
              "    <path d=\"M18.56 5.44l.94 2.06.94-2.06 2.06-.94-2.06-.94-.94-2.06-.94 2.06-2.06.94zm-11 1L8.5 8.5l.94-2.06 2.06-.94-2.06-.94L8.5 2.5l-.94 2.06-2.06.94zm10 10l.94 2.06.94-2.06 2.06-.94-2.06-.94-.94-2.06-.94 2.06-2.06.94z\"/><path d=\"M17.41 7.96l-1.37-1.37c-.4-.4-.92-.59-1.43-.59-.52 0-1.04.2-1.43.59L10.3 9.45l-7.72 7.72c-.78.78-.78 2.05 0 2.83L4 21.41c.39.39.9.59 1.41.59.51 0 1.02-.2 1.41-.59l7.78-7.78 2.81-2.81c.8-.78.8-2.07 0-2.86zM5.41 20L4 18.59l7.72-7.72 1.47 1.35L5.41 20z\"/>\n",
              "  </svg>\n",
              "      </button>\n",
              "      \n",
              "  <style>\n",
              "    .colab-df-container {\n",
              "      display:flex;\n",
              "      flex-wrap:wrap;\n",
              "      gap: 12px;\n",
              "    }\n",
              "\n",
              "    .colab-df-convert {\n",
              "      background-color: #E8F0FE;\n",
              "      border: none;\n",
              "      border-radius: 50%;\n",
              "      cursor: pointer;\n",
              "      display: none;\n",
              "      fill: #1967D2;\n",
              "      height: 32px;\n",
              "      padding: 0 0 0 0;\n",
              "      width: 32px;\n",
              "    }\n",
              "\n",
              "    .colab-df-convert:hover {\n",
              "      background-color: #E2EBFA;\n",
              "      box-shadow: 0px 1px 2px rgba(60, 64, 67, 0.3), 0px 1px 3px 1px rgba(60, 64, 67, 0.15);\n",
              "      fill: #174EA6;\n",
              "    }\n",
              "\n",
              "    [theme=dark] .colab-df-convert {\n",
              "      background-color: #3B4455;\n",
              "      fill: #D2E3FC;\n",
              "    }\n",
              "\n",
              "    [theme=dark] .colab-df-convert:hover {\n",
              "      background-color: #434B5C;\n",
              "      box-shadow: 0px 1px 3px 1px rgba(0, 0, 0, 0.15);\n",
              "      filter: drop-shadow(0px 1px 2px rgba(0, 0, 0, 0.3));\n",
              "      fill: #FFFFFF;\n",
              "    }\n",
              "  </style>\n",
              "\n",
              "      <script>\n",
              "        const buttonEl =\n",
              "          document.querySelector('#df-669d7c77-da00-4ff8-8949-dbd864f7edc5 button.colab-df-convert');\n",
              "        buttonEl.style.display =\n",
              "          google.colab.kernel.accessAllowed ? 'block' : 'none';\n",
              "\n",
              "        async function convertToInteractive(key) {\n",
              "          const element = document.querySelector('#df-669d7c77-da00-4ff8-8949-dbd864f7edc5');\n",
              "          const dataTable =\n",
              "            await google.colab.kernel.invokeFunction('convertToInteractive',\n",
              "                                                     [key], {});\n",
              "          if (!dataTable) return;\n",
              "\n",
              "          const docLinkHtml = 'Like what you see? Visit the ' +\n",
              "            '<a target=\"_blank\" href=https://colab.research.google.com/notebooks/data_table.ipynb>data table notebook</a>'\n",
              "            + ' to learn more about interactive tables.';\n",
              "          element.innerHTML = '';\n",
              "          dataTable['output_type'] = 'display_data';\n",
              "          await google.colab.output.renderOutput(dataTable, element);\n",
              "          const docLink = document.createElement('div');\n",
              "          docLink.innerHTML = docLinkHtml;\n",
              "          element.appendChild(docLink);\n",
              "        }\n",
              "      </script>\n",
              "    </div>\n",
              "  </div>\n",
              "  "
            ]
          },
          "metadata": {},
          "execution_count": 453
        }
      ]
    },
    {
      "cell_type": "code",
      "source": [
        "\n",
        "linear_model_hg = ols('correct_post_quiz ~ recording_elegible+Male_Female+recording_elegible*Male_Female',\n",
        "                   data=data).fit()\n",
        "print(linear_model_hg.summary())"
      ],
      "metadata": {
        "colab": {
          "base_uri": "https://localhost:8080/"
        },
        "id": "IwzJG82-ns4E",
        "outputId": "a9e7765d-34a3-454f-8d15-f8cca68b7c1f"
      },
      "execution_count": null,
      "outputs": [
        {
          "output_type": "stream",
          "name": "stdout",
          "text": [
            "                            OLS Regression Results                            \n",
            "==============================================================================\n",
            "Dep. Variable:      correct_post_quiz   R-squared:                       0.017\n",
            "Model:                            OLS   Adj. R-squared:                  0.005\n",
            "Method:                 Least Squares   F-statistic:                     1.406\n",
            "Date:                Sat, 17 Dec 2022   Prob (F-statistic):              0.242\n",
            "Time:                        03:10:07   Log-Likelihood:                -339.24\n",
            "No. Observations:                 254   AIC:                             686.5\n",
            "Df Residuals:                     250   BIC:                             700.6\n",
            "Df Model:                           3                                         \n",
            "Covariance Type:            nonrobust                                         \n",
            "==================================================================================================\n",
            "                                     coef    std err          t      P>|t|      [0.025      0.975]\n",
            "--------------------------------------------------------------------------------------------------\n",
            "Intercept                          2.2164      0.113     19.563      0.000       1.993       2.440\n",
            "recording_elegible                 0.1682      0.171      0.981      0.327      -0.169       0.506\n",
            "Male_Female                        0.3174      0.156      2.029      0.043       0.009       0.625\n",
            "recording_elegible:Male_Female    -0.2758      0.235     -1.175      0.241      -0.738       0.187\n",
            "==============================================================================\n",
            "Omnibus:                       11.086   Durbin-Watson:                   1.853\n",
            "Prob(Omnibus):                  0.004   Jarque-Bera (JB):               11.160\n",
            "Skew:                          -0.476   Prob(JB):                      0.00377\n",
            "Kurtosis:                       2.617   Cond. No.                         6.77\n",
            "==============================================================================\n",
            "\n",
            "Notes:\n",
            "[1] Standard Errors assume that the covariance matrix of the errors is correctly specified.\n"
          ]
        }
      ]
    },
    {
      "cell_type": "markdown",
      "source": [
        "## LATE with IVREG"
      ],
      "metadata": {
        "id": "LsbsIqbBslVw"
      }
    },
    {
      "cell_type": "code",
      "source": [
        "\n",
        "# data[\"Male/Female\"] = data[\"demo_gender_Male\"]-data[\"demo_gender_Female\"]\n",
        "# data[\"Male/Female\"].replace(-1,0)\n"
      ],
      "metadata": {
        "id": "YC3DteiT0smL"
      },
      "execution_count": null,
      "outputs": []
    },
    {
      "cell_type": "code",
      "source": [
        "# data[\"Male/Female\"] = np.where((data['demo_gender']==\"Male\") | ((data['demo_gender'] !=\"Prefer not to say\")&(data['demo_gender'] !=\"Other\")),1,0)\n",
        "# data = pd.get_dummies(data[(data[\"recording_elegible\"]==1)], prefix=['demo_gender'], columns=['demo_gender'])\n",
        "# data = pd.get_dummies(data[(data[\"recording_elegible\"]==1)], prefix=['demo_gender'], columns=['demo_gender'])\n",
        "# data.columns\n",
        "# data.columns = data.columns.str.replace(\" \",\"_\")\n",
        "# data.columns\n",
        "# data=data[(data[\"recording_elegible\"]==1)]\n",
        "data.columns"
      ],
      "metadata": {
        "colab": {
          "base_uri": "https://localhost:8080/"
        },
        "id": "QtX76q1zxS2X",
        "outputId": "d79d76ce-792e-4749-9247-c4d8d4b47a60"
      },
      "execution_count": null,
      "outputs": [
        {
          "output_type": "execute_result",
          "data": {
            "text/plain": [
              "Index(['participant_id', 'video_id', 'recording_elegible', 'cam_allowed',\n",
              "       'azure_features', 'video_error', 'duration_recording',\n",
              "       'survey_duration', 'pre_quiz1', 'pre_quiz2', 'post_quiz1', 'post_quiz2',\n",
              "       'post_quiz3', 'post_quiz4', 'post_quiz5', 'post_quiz6', 'post_quiz7',\n",
              "       'post_quiz8', 'self_interest', 'self_boring', 'self_confusion',\n",
              "       'self_easy', 'demo_age', 'demo_race', 'demo_ethnicity',\n",
              "       'demo_marital_status', 'demo_education', 'demo_income',\n",
              "       'demo_employment', 'demo_industry', 'demo_country', 'demo_region',\n",
              "       'correct', 'correct_pre_quiz', 'correct_post_quiz', 'self_raw_anger',\n",
              "       'self_raw_contempt', 'self_raw_disgust', 'self_raw_fear',\n",
              "       'self_raw_happiness', 'self_raw_neutral', 'self_raw_sadness',\n",
              "       'self_raw_surprise', 'reported_emotions', 'compliers',\n",
              "       'demo_gender_Female', 'demo_gender_Male', 'demo_gender_Other',\n",
              "       'demo_gender_Prefer_not_to_say', 'Male_Female'],\n",
              "      dtype='object')"
            ]
          },
          "metadata": {},
          "execution_count": 456
        }
      ]
    },
    {
      "cell_type": "code",
      "source": [
        "\n",
        "# # late_data = data[(data[\"recording_elegible\"]==1)&(data[\"cam_allowed\"]==1)]\n",
        "\n",
        "# lm1 = ols('recording_elegible ~ Male_Female',\n",
        "#                    data=data).fit()\n",
        "\n",
        "# print(lm1.summary())"
      ],
      "metadata": {
        "colab": {
          "base_uri": "https://localhost:8080/"
        },
        "id": "iumet2u0smnX",
        "outputId": "9c72448a-6014-442e-af2a-ab7dcff0a103"
      },
      "execution_count": null,
      "outputs": [
        {
          "output_type": "stream",
          "name": "stdout",
          "text": [
            "                            OLS Regression Results                            \n",
            "==============================================================================\n",
            "Dep. Variable:     recording_elegible   R-squared:                       0.000\n",
            "Model:                            OLS   Adj. R-squared:                 -0.004\n",
            "Method:                 Least Squares   F-statistic:                   0.05625\n",
            "Date:                Sat, 17 Dec 2022   Prob (F-statistic):              0.813\n",
            "Time:                        03:10:22   Log-Likelihood:                -182.77\n",
            "No. Observations:                 254   AIC:                             369.5\n",
            "Df Residuals:                     252   BIC:                             376.6\n",
            "Df Model:                           1                                         \n",
            "Covariance Type:            nonrobust                                         \n",
            "===============================================================================\n",
            "                  coef    std err          t      P>|t|      [0.025      0.975]\n",
            "-------------------------------------------------------------------------------\n",
            "Intercept       0.4370      0.046      9.555      0.000       0.347       0.527\n",
            "Male_Female     0.0149      0.063      0.237      0.813      -0.109       0.138\n",
            "==============================================================================\n",
            "Omnibus:                     1300.748   Durbin-Watson:                   0.144\n",
            "Prob(Omnibus):                  0.000   Jarque-Bera (JB):               42.322\n",
            "Skew:                           0.222   Prob(JB):                     6.46e-10\n",
            "Kurtosis:                       1.050   Cond. No.                         2.70\n",
            "==============================================================================\n",
            "\n",
            "Notes:\n",
            "[1] Standard Errors assume that the covariance matrix of the errors is correctly specified.\n"
          ]
        }
      ]
    },
    {
      "cell_type": "code",
      "source": [
        "# lm2 = ols('demo_gender_Female ~ cam_allowed',\n",
        "#                    data=data).fit()\n",
        "\n",
        "# print(lm2.summary())"
      ],
      "metadata": {
        "colab": {
          "base_uri": "https://localhost:8080/"
        },
        "id": "cIPTAr-utlvi",
        "outputId": "34e709cc-d889-4bc7-d609-4bed31fb8fa5"
      },
      "execution_count": null,
      "outputs": [
        {
          "output_type": "stream",
          "name": "stdout",
          "text": [
            "                            OLS Regression Results                            \n",
            "==============================================================================\n",
            "Dep. Variable:     demo_gender_Female   R-squared:                       0.000\n",
            "Model:                            OLS   Adj. R-squared:                 -0.004\n",
            "Method:                 Least Squares   F-statistic:                   0.02860\n",
            "Date:                Sat, 17 Dec 2022   Prob (F-statistic):              0.866\n",
            "Time:                        03:10:31   Log-Likelihood:                -179.32\n",
            "No. Observations:                 254   AIC:                             362.6\n",
            "Df Residuals:                     252   BIC:                             369.7\n",
            "Df Model:                           1                                         \n",
            "Covariance Type:            nonrobust                                         \n",
            "===============================================================================\n",
            "                  coef    std err          t      P>|t|      [0.025      0.975]\n",
            "-------------------------------------------------------------------------------\n",
            "Intercept       0.3974      0.039     10.087      0.000       0.320       0.475\n",
            "cam_allowed     0.0107      0.063      0.169      0.866      -0.114       0.136\n",
            "==============================================================================\n",
            "Omnibus:                     1444.171   Durbin-Watson:                   2.130\n",
            "Prob(Omnibus):                  0.000   Jarque-Bera (JB):               42.590\n",
            "Skew:                           0.401   Prob(JB):                     5.65e-10\n",
            "Kurtosis:                       1.162   Cond. No.                         2.44\n",
            "==============================================================================\n",
            "\n",
            "Notes:\n",
            "[1] Standard Errors assume that the covariance matrix of the errors is correctly specified.\n"
          ]
        }
      ]
    },
    {
      "cell_type": "code",
      "source": [
        "# # print(late_data.columns)\n",
        "# # # late_data.rename(columns={\"demo_gender_Prefer not to say\":\"demo_gender_Prefer_not_to_say\"},inplace=True)\n",
        "# lm3 = ols('demo_gender_Prefer_not_to_say ~ recording_elegible',\n",
        "#                    data=data).fit()\n",
        "\n",
        "# print(lm3.summary())"
      ],
      "metadata": {
        "colab": {
          "base_uri": "https://localhost:8080/"
        },
        "id": "eZ5szz2Cw_RZ",
        "outputId": "d8356703-92a7-4c8b-f3f1-31b27e08363a"
      },
      "execution_count": null,
      "outputs": [
        {
          "output_type": "stream",
          "name": "stdout",
          "text": [
            "                                  OLS Regression Results                                 \n",
            "=========================================================================================\n",
            "Dep. Variable:     demo_gender_Prefer_not_to_say   R-squared:                       0.000\n",
            "Model:                                       OLS   Adj. R-squared:                  0.000\n",
            "Method:                            Least Squares   F-statistic:                       nan\n",
            "Date:                           Sat, 17 Dec 2022   Prob (F-statistic):                nan\n",
            "Time:                                   01:45:57   Log-Likelihood:                 30.468\n",
            "No. Observations:                            113   AIC:                            -58.94\n",
            "Df Residuals:                                112   BIC:                            -56.21\n",
            "Df Model:                                      0                                         \n",
            "Covariance Type:                       nonrobust                                         \n",
            "======================================================================================\n",
            "                         coef    std err          t      P>|t|      [0.025      0.975]\n",
            "--------------------------------------------------------------------------------------\n",
            "Intercept              0.0177      0.009      2.027      0.045       0.000       0.035\n",
            "recording_elegible     0.0177      0.009      2.027      0.045       0.000       0.035\n",
            "==============================================================================\n",
            "Omnibus:                      148.171   Durbin-Watson:                   2.073\n",
            "Prob(Omnibus):                  0.000   Jarque-Bera (JB):             3029.422\n",
            "Skew:                           5.029   Prob(JB):                         0.00\n",
            "Kurtosis:                      26.287   Cond. No.                     4.12e+15\n",
            "==============================================================================\n",
            "\n",
            "Notes:\n",
            "[1] Standard Errors assume that the covariance matrix of the errors is correctly specified.\n",
            "[2] The smallest eigenvalue is 1.33e-29. This might indicate that there are\n",
            "strong multicollinearity problems or that the design matrix is singular.\n"
          ]
        }
      ]
    },
    {
      "cell_type": "code",
      "source": [
        "# lm4 = ols('demo_gender_Other ~ recording_elegible',\n",
        "#                    data=data).fit()\n",
        "\n",
        "# print(lm4.summary())"
      ],
      "metadata": {
        "colab": {
          "base_uri": "https://localhost:8080/"
        },
        "id": "ACZU1DbHyD7r",
        "outputId": "4a614d1e-3bc2-4e62-8882-60776f09f372"
      },
      "execution_count": null,
      "outputs": [
        {
          "output_type": "stream",
          "name": "stdout",
          "text": [
            "                            OLS Regression Results                            \n",
            "==============================================================================\n",
            "Dep. Variable:      demo_gender_Other   R-squared:                       0.000\n",
            "Model:                            OLS   Adj. R-squared:                  0.000\n",
            "Method:                 Least Squares   F-statistic:                       nan\n",
            "Date:                Sat, 17 Dec 2022   Prob (F-statistic):                nan\n",
            "Time:                        01:45:58   Log-Likelihood:                 46.206\n",
            "No. Observations:                 113   AIC:                            -90.41\n",
            "Df Residuals:                     112   BIC:                            -87.68\n",
            "Df Model:                           0                                         \n",
            "Covariance Type:            nonrobust                                         \n",
            "======================================================================================\n",
            "                         coef    std err          t      P>|t|      [0.025      0.975]\n",
            "--------------------------------------------------------------------------------------\n",
            "Intercept              0.0133      0.008      1.748      0.083      -0.002       0.028\n",
            "recording_elegible     0.0133      0.008      1.748      0.083      -0.002       0.028\n",
            "==============================================================================\n",
            "Omnibus:                      167.871   Durbin-Watson:                   2.055\n",
            "Prob(Omnibus):                  0.000   Jarque-Bera (JB):             5686.110\n",
            "Skew:                           5.890   Prob(JB):                         0.00\n",
            "Kurtosis:                      35.694   Cond. No.                     4.12e+15\n",
            "==============================================================================\n",
            "\n",
            "Notes:\n",
            "[1] Standard Errors assume that the covariance matrix of the errors is correctly specified.\n",
            "[2] The smallest eigenvalue is 1.33e-29. This might indicate that there are\n",
            "strong multicollinearity problems or that the design matrix is singular.\n"
          ]
        }
      ]
    },
    {
      "cell_type": "markdown",
      "source": [
        "### First and Second Stage"
      ],
      "metadata": {
        "id": "GVfGGKIa5lIK"
      }
    },
    {
      "cell_type": "code",
      "source": [],
      "metadata": {
        "id": "yLlp_PHS1T2y"
      },
      "execution_count": null,
      "outputs": []
    },
    {
      "cell_type": "code",
      "source": [
        "import statsmodels.api as sm\n",
        "from linearmodels.iv import IV2SLS\n",
        "\n",
        "# from __future__ import division\n",
        "# # data = data[(data[\"recording_elegible\"]==1)]\n",
        "# # endog = data[[\"correct_post_quiz\"]]\n",
        "# # exog = data[[\"demo_gender_Male\",\"demo_gender_Female\",\"demo_gender_Other\",\"demo_gender_Prefer_not_to_say\"]]\n",
        "# # instr = data[[\"recording_elegible\",\"cam_allowed\",\"survey_duration\",\"correct_pre_quiz\",\"azure_features\",\"video_error\"]]\n",
        "# res_first = IV2SLS(data[[\"recording_elegible\"]], data[[\"demo_gender_Male\",\"demo_gender_Female\",\"demo_gender_Other\",\"demo_gender_Prefer_not_to_say\"]], None, None).fit(\n",
        "#     cov_type=\"unadjusted\")\n",
        "# print(res_first)\n",
        "# # print(no_endog_results.summary())\n",
        "# data[\"cam_hat\"] = data.cam_allowed - res_first.resids"
      ],
      "metadata": {
        "id": "MzfOz7Dwy5Mt"
      },
      "execution_count": null,
      "outputs": []
    },
    {
      "cell_type": "code",
      "source": [
        "# from statsmodels.api import add_constant\n",
        "# data = add_constant(data, has_constant=\"add\")\n",
        "# res_second = IV2SLS(data[[\"correct_post_quiz\"]], data[[\"survey_duration\",\"correct_pre_quiz\",\"azure_features\",\"video_error\",\"recording_elegible\"]],\n",
        "#                     data[[\"cam_allowed\"]], data[[\"demo_gender_Male\",\"demo_gender_Female\",\"demo_gender_Other\",\"demo_gender_Prefer_not_to_say\"]]).fit(\n",
        "#     cov_type=\"unadjusted\"\n",
        "# )\n",
        "# print(res_second)"
      ],
      "metadata": {
        "id": "vP_sQ6KOBHLY"
      },
      "execution_count": null,
      "outputs": []
    },
    {
      "cell_type": "code",
      "source": [
        "# # dep ~ exog + [ endog ~ instruments]\n",
        "# formula = (\n",
        "#     \"ldrugexp ~ 1 + totchr + female + age + linc + blhisp + [hi_empunion ~ ssiratio]\"\n",
        "# )\n",
        "# mod = IV2SLS.from_formula(formula, data)\n",
        "formula = (\"correct_post_quiz ~ 1+recording_elegible+survey_duration+correct_pre_quiz+azure_features+video_error+[cam_allowed ~ Male_Female]\")\n",
        "mod = IV2SLS.from_formula(formula,data)\n",
        "iv_res = mod.fit(cov_type=\"robust\")\n",
        "print(iv_res)\n",
        "# print(mod)"
      ],
      "metadata": {
        "colab": {
          "base_uri": "https://localhost:8080/"
        },
        "id": "QDVfhe0wC1dp",
        "outputId": "c60b567d-f964-4f75-f505-a9ae100059a0"
      },
      "execution_count": null,
      "outputs": [
        {
          "output_type": "stream",
          "name": "stdout",
          "text": [
            "                          IV-2SLS Estimation Summary                          \n",
            "==============================================================================\n",
            "Dep. Variable:      correct_post_quiz   R-squared:                     -24.664\n",
            "Estimator:                    IV-2SLS   Adj. R-squared:                -25.288\n",
            "No. Observations:                 254   F-statistic:                    3.3721\n",
            "Date:                Sat, Dec 17 2022   P-value (F-stat)                0.7609\n",
            "Time:                        03:22:42   Distribution:                  chi2(6)\n",
            "Cov. Estimator:                robust                                         \n",
            "                                                                              \n",
            "                                 Parameter Estimates                                  \n",
            "======================================================================================\n",
            "                    Parameter  Std. Err.     T-stat    P-value    Lower CI    Upper CI\n",
            "--------------------------------------------------------------------------------------\n",
            "Intercept              0.5552     3.6717     0.1512     0.8798     -6.6412      7.7517\n",
            "azure_features        -16.502     53.977    -0.3057     0.7598     -122.30      89.292\n",
            "correct_pre_quiz       2.8473     5.7313     0.4968     0.6193     -8.3859      14.080\n",
            "recording_elegible    -12.615     41.178    -0.3064     0.7593     -93.323      68.092\n",
            "survey_duration     3.157e-05  5.934e-05     0.5321     0.5947  -8.473e-05      0.0001\n",
            "video_error           -16.479     53.533    -0.3078     0.7582     -121.40      88.444\n",
            "cam_allowed            29.138     94.772     0.3075     0.7585     -156.61      214.89\n",
            "======================================================================================\n",
            "\n",
            "Endogenous: cam_allowed\n",
            "Instruments: Male_Female\n",
            "Robust Covariance (Heteroskedastic)\n",
            "Debiased: False\n"
          ]
        }
      ]
    },
    {
      "cell_type": "code",
      "source": [
        "res_ols = IV2SLS(data.correct_post_quiz, data[[\"cam_allowed\",\"survey_duration\",\"correct_pre_quiz\",\"azure_features\",\"video_error\",\n",
        "                                               \"demo_gender_Male\",\"demo_gender_Female\",\"demo_gender_Other\",\"demo_gender_Prefer_not_to_say\"]], None, None).fit(\n",
        "    cov_type=\"unadjusted\"\n",
        ")\n",
        "print(res_ols)"
      ],
      "metadata": {
        "colab": {
          "base_uri": "https://localhost:8080/"
        },
        "id": "qYBV6veBLHEL",
        "outputId": "da73441f-0ffd-4b15-aa87-b6e097651ad7"
      },
      "execution_count": null,
      "outputs": [
        {
          "output_type": "stream",
          "name": "stdout",
          "text": [
            "                            OLS Estimation Summary                            \n",
            "==============================================================================\n",
            "Dep. Variable:      correct_post_quiz   R-squared:                      0.2272\n",
            "Estimator:                        OLS   Adj. R-squared:                 0.1677\n",
            "No. Observations:                 113   F-statistic:                    913.34\n",
            "Date:                Sat, Dec 17 2022   P-value (F-stat)                0.0000\n",
            "Time:                        01:48:11   Distribution:                  chi2(9)\n",
            "Cov. Estimator:            unadjusted                                         \n",
            "                                                                              \n",
            "                                       Parameter Estimates                                       \n",
            "=================================================================================================\n",
            "                               Parameter  Std. Err.     T-stat    P-value    Lower CI    Upper CI\n",
            "-------------------------------------------------------------------------------------------------\n",
            "cam_allowed                       0.3351     0.3439     0.9744     0.3299     -0.3389      1.0091\n",
            "survey_duration                1.189e-06  2.578e-05     0.0461     0.9632  -4.935e-05   5.173e-05\n",
            "correct_pre_quiz                  1.1979     0.2378     5.0384     0.0000      0.7319      1.6639\n",
            "azure_features                   -0.0853     0.2874    -0.2969     0.7665     -0.6486      0.4780\n",
            "video_error                      -0.1587     0.3134    -0.5065     0.6125     -0.7729      0.4555\n",
            "demo_gender_Male                  1.4777     0.2858     5.1694     0.0000      0.9174      2.0379\n",
            "demo_gender_Female                1.4944     0.2997     4.9863     0.0000      0.9070      2.0818\n",
            "demo_gender_Other                 0.5084     0.5695     0.8928     0.3720     -0.6077      1.6246\n",
            "demo_gender_Prefer_not_to_say     1.9526     0.4545     4.2966     0.0000      1.0619      2.8434\n",
            "=================================================================================================\n"
          ]
        }
      ]
    },
    {
      "cell_type": "code",
      "source": [],
      "metadata": {
        "id": "rpQTcH4hrUej"
      },
      "execution_count": null,
      "outputs": []
    },
    {
      "cell_type": "code",
      "source": [
        "from linearmodels.iv import compare\n",
        "\n",
        "res_direct = IV2SLS(data.correct_post_quiz, data[[\"cam_hat\"]], None, None).fit(\n",
        "    cov_type=\"unadjusted\"\n",
        ")\n",
        "print(compare({\"OLS\": res_ols, \"LATE_SecondStage_IV2SLS\": res_second}))\n",
        "# print(compare({\"OLS\": res_ols, \"2SLS\": res_second}))"
      ],
      "metadata": {
        "colab": {
          "base_uri": "https://localhost:8080/"
        },
        "id": "SjBggtlEKdnK",
        "outputId": "91bdd3c9-0abf-47c9-9567-a95276ccc222"
      },
      "execution_count": null,
      "outputs": [
        {
          "output_type": "stream",
          "name": "stdout",
          "text": [
            "                                Model Comparison                               \n",
            "===============================================================================\n",
            "                                                    OLS LATE_SecondStage_IV2SLS\n",
            "-------------------------------------------------------------------------------\n",
            "Dep. Variable                         correct_post_quiz       correct_post_quiz\n",
            "Estimator                                           OLS                 IV-2SLS\n",
            "No. Observations                                    113                     113\n",
            "Cov. Est.                                    unadjusted              unadjusted\n",
            "R-squared                                        0.2272                  0.8108\n",
            "Adj. R-squared                                   0.1677                  0.8021\n",
            "F-statistic                                      913.34                  517.18\n",
            "P-value (F-stat)                                 0.0000                  0.0000\n",
            "===============================     ===================     ===================\n",
            "cam_allowed                                      0.3351                  3.2859\n",
            "                                               (0.9744)                (5.7549)\n",
            "survey_duration                               1.189e-06               4.343e-06\n",
            "                                               (0.0461)                (0.1294)\n",
            "correct_pre_quiz                                 1.1979                  1.6110\n",
            "                                               (5.0384)                (5.9764)\n",
            "azure_features                                  -0.0853                 -1.8559\n",
            "                                              (-0.2969)               (-3.3624)\n",
            "video_error                                     -0.1587                 -1.9098\n",
            "                                              (-0.5065)               (-3.3022)\n",
            "demo_gender_Male                                 1.4777                        \n",
            "                                               (5.1694)                        \n",
            "demo_gender_Female                               1.4944                        \n",
            "                                               (4.9863)                        \n",
            "demo_gender_Other                                0.5084                        \n",
            "                                               (0.8928)                        \n",
            "demo_gender_Prefer_not_to_say                    1.9526                        \n",
            "                                               (4.2966)                        \n",
            "================================= =====================   =====================\n",
            "Instruments                                                    demo_gender_Male\n",
            "                                                             demo_gender_Female\n",
            "-------------------------------------------------------------------------------\n",
            "\n",
            "T-stats reported in parentheses\n"
          ]
        }
      ]
    },
    {
      "cell_type": "code",
      "source": [],
      "metadata": {
        "id": "it9JCncDLAt8"
      },
      "execution_count": null,
      "outputs": []
    },
    {
      "cell_type": "code",
      "source": [
        "df = pd.read_csv(\"/content/gdrive/MyDrive/ParticipantData12Dec2022.csv\")"
      ],
      "metadata": {
        "id": "rDfQK7LzriQC"
      },
      "execution_count": null,
      "outputs": []
    },
    {
      "cell_type": "code",
      "source": [
        "df[\"compliers\"] = np.where((df['recording_elegible']==1) & (df['cam_allowed'] == 1),1,0)"
      ],
      "metadata": {
        "id": "ug1HDepTriQC"
      },
      "execution_count": null,
      "outputs": []
    },
    {
      "cell_type": "code",
      "source": [
        "df[\"correct_pre_quiz\"] = df[\"correct_pre_quiz\"]/2\n",
        "df[\"correct_post_quiz\"] = df[\"correct_post_quiz\"]/2"
      ],
      "metadata": {
        "id": "xxeY1b2ariQD"
      },
      "execution_count": null,
      "outputs": []
    },
    {
      "cell_type": "code",
      "source": [
        "df = df.replace({\"demo_gender\":demo_gender,\"demo_age\":demo_age,\"demo_marital_status\":demo_marital_status,\"demo_education\":demo_education,\n",
        "                     \"demo_income\":demo_income,\"demo_employment\":demo_employment})"
      ],
      "metadata": {
        "id": "VwKvR1L6riQD"
      },
      "execution_count": null,
      "outputs": []
    },
    {
      "cell_type": "code",
      "source": [
        "# fit simple linear regression model\n",
        "# linear_model = ols('correct_post_quiz ~ recording_elegible+cam_allowed+azure_features+video_error+survey_duration+C(demo_gender)+C(demo_age)'+\n",
        "#                    '+C(demo_marital_status)+C(demo_education)+C(demo_income)+C(demo_employment)+correct_pre_quiz',\n",
        "#                    data=data).fit()\n",
        "# linear_model = ols('correct_post_quiz ~ recording_elegible+cam_allowed+azure_features+video_error+survey_duration+correct_pre_quiz+C(demo_gender)',\n",
        "#                    data=data).fit()\n",
        "linear_model = ols('correct_post_quiz ~ recording_elegible',\n",
        "                   data=df).fit()\n",
        "# display model summary\n",
        "print(linear_model.summary())"
      ],
      "metadata": {
        "colab": {
          "base_uri": "https://localhost:8080/"
        },
        "outputId": "e01dbf04-cc6c-45cd-a877-324ecbea2c7d",
        "id": "xSUdeyjLriQD"
      },
      "execution_count": null,
      "outputs": [
        {
          "output_type": "stream",
          "name": "stdout",
          "text": [
            "                            OLS Regression Results                            \n",
            "==============================================================================\n",
            "Dep. Variable:      correct_post_quiz   R-squared:                       0.000\n",
            "Model:                            OLS   Adj. R-squared:                 -0.004\n",
            "Method:                 Least Squares   F-statistic:                   0.04200\n",
            "Date:                Sat, 17 Dec 2022   Prob (F-statistic):              0.838\n",
            "Time:                        01:24:37   Log-Likelihood:                -341.35\n",
            "No. Observations:                 254   AIC:                             686.7\n",
            "Df Residuals:                     252   BIC:                             693.8\n",
            "Df Model:                           1                                         \n",
            "Covariance Type:            nonrobust                                         \n",
            "======================================================================================\n",
            "                         coef    std err          t      P>|t|      [0.025      0.975]\n",
            "--------------------------------------------------------------------------------------\n",
            "Intercept              2.3830      0.078     30.382      0.000       2.229       2.537\n",
            "recording_elegible     0.0241      0.118      0.205      0.838      -0.207       0.256\n",
            "==============================================================================\n",
            "Omnibus:                       11.662   Durbin-Watson:                   1.826\n",
            "Prob(Omnibus):                  0.003   Jarque-Bera (JB):               11.861\n",
            "Skew:                          -0.495   Prob(JB):                      0.00266\n",
            "Kurtosis:                       2.623   Cond. No.                         2.51\n",
            "==============================================================================\n",
            "\n",
            "Notes:\n",
            "[1] Standard Errors assume that the covariance matrix of the errors is correctly specified.\n"
          ]
        }
      ]
    },
    {
      "cell_type": "code",
      "source": [
        "print(compare({\"OLS_for_ITT\":linear_model,\"OLS_for_ITT_with_Heterogenity\":res_ols,\"LATE_FirstStage_IV2SLS\": res_first, \"LATE_SecondStage_IV2SLS\": res_second}))"
      ],
      "metadata": {
        "colab": {
          "base_uri": "https://localhost:8080/",
          "height": 166
        },
        "id": "Q78zQjcSrt8c",
        "outputId": "45573294-b1d5-4f3f-b439-04e0608510f6"
      },
      "execution_count": 1,
      "outputs": [
        {
          "output_type": "error",
          "ename": "NameError",
          "evalue": "ignored",
          "traceback": [
            "\u001b[0;31m---------------------------------------------------------------------------\u001b[0m",
            "\u001b[0;31mNameError\u001b[0m                                 Traceback (most recent call last)",
            "\u001b[0;32m<ipython-input-1-70814e3f11a8>\u001b[0m in \u001b[0;36m<module>\u001b[0;34m\u001b[0m\n\u001b[0;32m----> 1\u001b[0;31m \u001b[0mprint\u001b[0m\u001b[0;34m(\u001b[0m\u001b[0mcompare\u001b[0m\u001b[0;34m(\u001b[0m\u001b[0;34m{\u001b[0m\u001b[0;34m\"OLS_for_ITT\"\u001b[0m\u001b[0;34m:\u001b[0m\u001b[0mlinear_model\u001b[0m\u001b[0;34m,\u001b[0m\u001b[0;34m\"OLS_for_ITT_with_Heterogenity\"\u001b[0m\u001b[0;34m:\u001b[0m\u001b[0mres_ols\u001b[0m\u001b[0;34m,\u001b[0m\u001b[0;34m\"LATE_FirstStage_IV2SLS\"\u001b[0m\u001b[0;34m:\u001b[0m \u001b[0mres_first\u001b[0m\u001b[0;34m,\u001b[0m \u001b[0;34m\"LATE_SecondStage_IV2SLS\"\u001b[0m\u001b[0;34m:\u001b[0m \u001b[0mres_second\u001b[0m\u001b[0;34m}\u001b[0m\u001b[0;34m)\u001b[0m\u001b[0;34m)\u001b[0m\u001b[0;34m\u001b[0m\u001b[0;34m\u001b[0m\u001b[0m\n\u001b[0m",
            "\u001b[0;31mNameError\u001b[0m: name 'compare' is not defined"
          ]
        }
      ]
    },
    {
      "cell_type": "code",
      "source": [],
      "metadata": {
        "id": "Usfs8gckr3se"
      },
      "execution_count": null,
      "outputs": []
    }
  ]
}